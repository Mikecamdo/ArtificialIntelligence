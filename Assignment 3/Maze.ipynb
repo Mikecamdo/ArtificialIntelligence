{
 "cells": [
  {
   "cell_type": "markdown",
   "metadata": {
    "id": "vYjJ88W5-HTp"
   },
   "source": [
    "# Search: Solving a Maze Using a Goal-based Agent\n",
    "\n",
    "Student Name: Michael Doherty\n",
    "\n",
    "I have used the following AI tools: ChatGPT (for general questions about Python)\n",
    "\n",
    "I understand that my submission needs to be my own work: MD\n",
    "\n",
    "## Instructions\n",
    "\n",
    "Total Points: Undergrads 100 / Graduate students 110\n",
    "\n",
    "Complete this notebook. Use the provided notebook cells and insert additional code and markdown cells as needed. Submit the completely rendered notebook as a PDF file.\n",
    "\n",
    "\n",
    "## Introduction\n",
    "\n",
    "The agent has a map of the maze it is in and the environment is assumed to be **deterministic, discrete, and known.** The agent must use the map to plan a path through the maze from the starting location $S$ to the goal location $G$.  This is a planing exercise for a goal-based agent, so you do not need to implement an environment, just use the map to search for a path. Once the plan is made, the agent in a deterministic environment (i.e., the transition function is deterministic with the outcome of each state/action pair fixed and no randomness) can just follow the path and does not need to care about the percepts.\n",
    "This is also called an **[open-loop system](https://en.wikipedia.org/wiki/Open-loop_controller).**\n",
    "The execution phase is trivial and we do not implement it in this exercise.\n",
    "\n",
    "Tree search algorithm implementations that you find online and used in general algorithms courses often have a different aim. These algorithms assume that you already have a tree in memory. We are interested in dynamically creating a search tree with the aim of finding a good/the best path from the root node to the goal state. Follow the pseudo code presented in the text book (and replicated in the slides) closely. Ideally, we would like to search only a small part of the maze, i.e., create a search tree with as few nodes as possible.\n",
    "\n",
    "Several mazes for this exercise are stored as text files. Here is the small example maze:"
   ]
  },
  {
   "cell_type": "code",
   "execution_count": 1,
   "metadata": {
    "id": "C04aWDCU-HT0",
    "outputId": "fc32fcfe-2e0a-4b27-b806-fdc60e8055c7"
   },
   "outputs": [
    {
     "name": "stdout",
     "output_type": "stream",
     "text": [
      "XXXXXXXXXXXXXXXXXXXXXX\n",
      "X XX        X X      X\n",
      "X    XXXXXX X XXXXXX X\n",
      "XXXXXX     S  X      X\n",
      "X    X XXXXXX XX XXXXX\n",
      "X XXXX X         X   X\n",
      "X        XXX XXX   X X\n",
      "XXXXXXXXXX    XXXXXX X\n",
      "XG         XX        X\n",
      "XXXXXXXXXXXXXXXXXXXXXX\n",
      "\n"
     ]
    }
   ],
   "source": [
    "with open(\"small_maze.txt\", \"r\") as f:\n",
    "    maze_str = f.read()\n",
    "print(maze_str)"
   ]
  },
  {
   "cell_type": "markdown",
   "metadata": {
    "id": "dIJtwJxU-HT5"
   },
   "source": [
    "__Note:__ The mazes above contains cycles and therefore the state space may not form proper trees unless cycles are prevented. Therfore, you will need to deal with cycle detection in your code."
   ]
  },
  {
   "cell_type": "markdown",
   "metadata": {
    "id": "CnLi0133-HT6"
   },
   "source": [
    "## Parsing and pretty printing the maze\n",
    "\n",
    "The maze can also be displayed in color using code in the module [maze_helper.py](maze_helper.py). The code parses the string representing the maze and converts it into a `numpy` 2d array which you can use in your implementation. Position are represented as a 2-tuple of the form `(row, col)`."
   ]
  },
  {
   "cell_type": "code",
   "execution_count": 2,
   "metadata": {
    "id": "o4PIPl1f-HT6",
    "outputId": "e7713160-40f5-4371-d87e-46fb26dfdc48",
    "tags": []
   },
   "outputs": [
    {
     "name": "stdout",
     "output_type": "stream",
     "text": [
      "Position(0,0): X\n",
      "Position(8,1): G\n"
     ]
    }
   ],
   "source": [
    "import maze_helper as mh\n",
    "\n",
    "maze = mh.parse_maze(maze_str)\n",
    "\n",
    "# look at a position in the maze by subsetting the 2d array\n",
    "print(\"Position(0,0):\", maze[0, 0])\n",
    "\n",
    "# there is also a helper function called `look(maze, pos)` available\n",
    "# which uses a 2-tuple for the position.\n",
    "print(\"Position(8,1):\", mh.look(maze, (8, 1)))"
   ]
  },
  {
   "cell_type": "markdown",
   "metadata": {
    "id": "s22-xCqW-HT7"
   },
   "source": [
    "A helper function to visualize the maze is also available."
   ]
  },
  {
   "cell_type": "code",
   "execution_count": 3,
   "metadata": {
    "id": "LYCnJusF-HT8",
    "outputId": "ed712fe2-30db-4000-d358-b5cd0ba3f6ac"
   },
   "outputs": [
    {
     "data": {
      "image/png": "[encoded data removed]",
      "text/plain": [
       "<Figure size 640x480 with 1 Axes>"
      ]
     },
     "metadata": {
      "image/png": {
       "height": 269,
       "width": 534
      }
     },
     "output_type": "display_data"
    }
   ],
   "source": [
    "%matplotlib inline\n",
    "%config InlineBackend.figure_format = 'retina'\n",
    "# use higher resolution images in notebook\n",
    "\n",
    "mh.show_maze(maze)"
   ]
  },
  {
   "cell_type": "markdown",
   "metadata": {
    "id": "N6zjMtm7-HT-"
   },
   "source": [
    "Find the position of the start and the goal using the helper function `find_pos()`"
   ]
  },
  {
   "cell_type": "code",
   "execution_count": 4,
   "metadata": {
    "id": "06nBDRye-HT_",
    "outputId": "2b90a2c3-9fde-4d20-feb6-58f442032bca"
   },
   "outputs": [
    {
     "name": "stdout",
     "output_type": "stream",
     "text": [
      "Start location: (3, 11)\n",
      "Goal location: (8, 1)\n"
     ]
    }
   ],
   "source": [
    "print(\"Start location:\", mh.find_pos(maze, what = \"S\"))\n",
    "print(\"Goal location:\", mh.find_pos(maze, what = \"G\"))"
   ]
  },
  {
   "cell_type": "markdown",
   "metadata": {
    "id": "ifvB7uFw-HUA"
   },
   "source": [
    "Helper function documentation."
   ]
  },
  {
   "cell_type": "code",
   "execution_count": 5,
   "metadata": {
    "id": "EUAfIxPR-HUB",
    "outputId": "867daa11-52f9-47cf-8f1d-94f1427292d2"
   },
   "outputs": [
    {
     "name": "stdout",
     "output_type": "stream",
     "text": [
      "Help on module maze_helper:\n",
      "\n",
      "NAME\n",
      "    maze_helper\n",
      "\n",
      "DESCRIPTION\n",
      "    Code for the Maze Assignment by Michael Hahsler\n",
      "    Usage: \n",
      "        import maze_helper as mh\n",
      "        mh.show_some_mazes()\n",
      "\n",
      "FUNCTIONS\n",
      "    find_pos(maze, what='S')\n",
      "        Find start/goal in a maze and returns the first one. \n",
      "        Caution: there is no error checking!\n",
      "        \n",
      "        Parameters:\n",
      "        maze: a array with characters prodced by parse_maze()\n",
      "        what: the letter to be found ('S' for start and 'G' for goal)\n",
      "        \n",
      "        Returns:\n",
      "        a tupple (x, y) for the found position.\n",
      "    \n",
      "    look(maze, pos)\n",
      "        Look at the label of a square with the position as an array of the form (x, y).\n",
      "    \n",
      "    parse_maze(maze_str)\n",
      "        Convert a maze as a string into a 2d numpy array\n",
      "    \n",
      "    show_maze(maze, fontsize=10)\n",
      "        Display a (parsed) maze as an image.\n",
      "    \n",
      "    welcome()\n",
      "        Welcome message.\n",
      "\n",
      "FILE\n",
      "    c:\\users\\mikec_g1kgiu8\\onedrive\\desktop\\fall 2023 projects\\artificialintelligence\\assignment 3\\maze_helper.py\n",
      "\n",
      "\n"
     ]
    }
   ],
   "source": [
    "help(mh)"
   ]
  },
  {
   "cell_type": "markdown",
   "metadata": {
    "id": "78-Cb36s-HUC"
   },
   "source": [
    "## Tree structure\n",
    "\n",
    "Here is an implementation of the basic node structure for the search algorithms (see Fig 3.7 on page 73). I have added a method that extracts the path from the root node to the current node. It can be used to get the path when the search is completed."
   ]
  },
  {
   "cell_type": "code",
   "execution_count": 6,
   "metadata": {
    "id": "bKuCpHiK-HUC"
   },
   "outputs": [],
   "source": [
    "class Node:\n",
    "    def __init__(self, pos, parent, action, cost):\n",
    "        self.pos = tuple(pos)    # the state; positions are (row,col)\n",
    "        self.parent = parent     # reference to parent node. None means root node.\n",
    "        self.action = action     # action used in the transition function (root node has None)\n",
    "        self.cost = cost         # for uniform cost this is the depth. It is also g(n) for A* search\n",
    "\n",
    "    def __str__(self):\n",
    "        return f\"Node - pos = {self.pos}; action = {self.action}; cost = {self.cost}\"\n",
    "\n",
    "    def get_path_from_root(self):\n",
    "        \"\"\"returns nodes on the path from the root to the current node.\"\"\"\n",
    "        node = self\n",
    "        path = [node]\n",
    "\n",
    "        while not node.parent is None:\n",
    "            node = node.parent\n",
    "            path.append(node)\n",
    "\n",
    "        path.reverse()\n",
    "\n",
    "        return(path)"
   ]
  },
  {
   "cell_type": "markdown",
   "metadata": {
    "id": "8KYLyuVV-HUD"
   },
   "source": [
    "If needed, then you can add more fields to the class like the heuristic value $h(n)$ or $f(n)$.\n",
    "\n",
    "Examples for how to create and use a tree and information on memory management can be found [here](../HOWTOs/trees.ipynb)."
   ]
  },
  {
   "cell_type": "markdown",
   "metadata": {
    "id": "U8BHrClz-HUD"
   },
   "source": [
    "# Tasks\n",
    "\n",
    "The goal is to:\n",
    "\n",
    "1. Implement the following search algorithms for solving different mazes:\n",
    "\n",
    "    - Breadth-first search (BFS)\n",
    "    - Depth-first search (DFS)\n",
    "    - Greedy best-first search (GBFS)\n",
    "    - A* search\n",
    "\n",
    "2. Run each of the above algorithms on the\n",
    "    - [small maze](small_maze.txt),\n",
    "    - [medium maze](medium_maze.txt),\n",
    "    - [large maze](large_maze.txt),\n",
    "    - [open maze](open_maze.txt),\n",
    "    - [wall maze](wall_maze.txt),\n",
    "    - [loops maze](loops_maze.txt),\n",
    "    - [empty maze](empty_maze.txt), and\n",
    "    - [empty 2_maze](empty_2_maze.txt).\n",
    "    \n",
    "3. For each problem instance and each search algorithm, report the following in a table:\n",
    "\n",
    "    - The solution and its path cost\n",
    "    - Total number of nodes expanded\n",
    "    - Maximum tree depth\n",
    "    - Maximum size of the frontier\n",
    "\n",
    "4. Display each solution by marking every maze square (or state) visited and the squares on the final path.\n",
    "\n",
    "## General [10 Points]\n",
    "\n",
    "1. Make sure that you use the latest version of this notebook. Sync your forked repository and pull the latest revision.\n",
    "2. Your implementation can use libraries like math, numpy, scipy, but not libraries that implement inteligent agents or complete search algorithms. Try to keep the code simple! In this course, we want to learn about the algorithms and we often do not need to use object-oriented design.\n",
    "3. You notebook needs to be formated professionally.\n",
    "    - Add additional markdown blocks for your description, comments in the code, add tables and use mathplotlib to produce charts where appropriate\n",
    "    - Do not show debugging output or include an excessive amount of output.\n",
    "    - Check that your PDF file is readable. For example, long lines are cut off in the PDF file. You don't have control over page breaks, so do not worry about these.\n",
    "4. Document your code. Add a short discussion of how your implementation works and your design choices."
   ]
  },
  {
   "cell_type": "markdown",
   "metadata": {
    "id": "rAunzQwJ-HUD"
   },
   "source": [
    "## Task 1: Defining the search problem and determining the problem size [10 Points]\n",
    "\n",
    "Define the components of the search problem:\n",
    "\n",
    "* Initial state\n",
    "* Actions\n",
    "* Transition model\n",
    "* Goal state\n",
    "* Path cost\n",
    "\n",
    "Use verbal descriptions, variables and equations as appropriate.\n",
    "\n",
    "*Note:* You can swich the next block from code to Markdown and use formating."
   ]
  },
  {
   "cell_type": "markdown",
   "metadata": {
    "id": "xM8b6JuB-HUE"
   },
   "source": [
    "Our search problem is a Goal-Based Agent solving a given maze. Thus, the components of this search problem can be broken down:\n",
    "- **Initial state**: The starting tile ('S'), where the agent begins its search.\n",
    "- **Actions**: Travel north, east, south, or west 1 position to another open, unvisited tile (i.e., a tile that isn't a wall and hasn't already been visited).\n",
    "- **Transition model**: If you go from tile A to tile B, you end up in tile B (regardless of which direction tile B is in).\n",
    "- **Goal state**: When the agent reaches the goal tile ('G').\n",
    "- **Path cost**: The number of tiles traveled over to reach the goal state."
   ]
  },
  {
   "cell_type": "markdown",
   "metadata": {
    "id": "iIPwx5Ul-HUE"
   },
   "source": [
    "Give some estimates for the problem size:\n",
    "\n",
    "* $n$: state space size\n",
    "* $d$: depth of the optimal solution\n",
    "* $m$: maximum depth of tree\n",
    "* $b$: maximum branching factor\n",
    "\n",
    "Describe how you would determine these values for a given maze."
   ]
  },
  {
   "cell_type": "markdown",
   "metadata": {
    "id": "SI7QdbEM-HUF"
   },
   "source": [
    "We can determine the estimates for the problem size of a given maze as follows:\n",
    "- State Space Size **<i>n</i>**: The state space size is equal to the number of tiles in the maze that the agent can be on; thus, if there are 50 open tiles (any tile that isn't a wall, including the start and goal tile), then the state space size is 50.\n",
    "- Depth of the Optimal Solution **<i>d</i>**: The depth of the optimal solution is simply the shortest path from the start tile to the goal tile. For example, if the shortest path from the start to the goal was 10 tiles, then the depth of the optimal solution is 10.\n",
    "- Maximum Depth of Tree **<i>m</i>**: The maximum depth of the tree would occur when the search agent visits every open tile before reaching the goal tile; thus, the maximum depth of the tree is equal to the number of open tiles in the maze (any tile that isn't a wall).\n",
    "- Maximum Branching Factor **<i>b</i>**: The maximum branching factor for the search tree is equal to the maximum number of successor nodes that can come from a parent. In our case, this is the maximum number of actions an agent can make from a given tile, which is 4 (north, east, south, or west)."
   ]
  },
  {
   "cell_type": "markdown",
   "metadata": {
    "id": "iXJDTl86-HUF"
   },
   "source": [
    "## Task 2: Uninformed search: Breadth-first and depth-first [40 Points]\n",
    "\n",
    "Implement these search strategies. Follow the pseudocode in the textbook/slides. You can use the tree structure shown above to extract the final path from your solution.\n",
    "\n",
    "__Notes:__\n",
    "* You can find maze solving implementations online that use the map to store information. While this is an effective idea for this two-dimensional navigation problem, it typically cannot be used for other search problems. Therefore, follow the textbook and only store information in the tree created during search, and use the `reached` and `frontier` data structures.\n",
    "* DFS can be implemented using the BFS tree search algorithm and simply changing the order in which the frontier is expanded (this is equivalent to best-first search with path length as the criterion to expand the next node). However, to take advantage of the significantly smaller memory footprint of DFS, you need to implement DFS in a different way without a `reached` data structure and by releasing the memory for nodes that are not needed anymore.\n",
    "* If DFS does not use a `reached` data structure, then its cycle checking abilities are limited. Remember, that DFS is incomplete if cycles cannot be prevented. You will see in your experiments that open spaces are a problem."
   ]
  },
  {
   "cell_type": "code",
   "execution_count": 7,
   "metadata": {},
   "outputs": [],
   "source": [
    "# Helper Functions\n",
    "\n",
    "# draws the path found for a given maze\n",
    "def draw_final_path(maze, goal):    \n",
    "    for node in goal.get_path_from_root():\n",
    "        if maze[node.pos] == '.':\n",
    "            maze[node.pos] = 'P'\n",
    "            \n",
    "# determines if a given child is already in the current node's path\n",
    "# (used for DFS cycle checking)\n",
    "def cycle_not_found(current, child_pos):\n",
    "    for node in current.get_path_from_root():\n",
    "        if child_pos == node.pos:\n",
    "            return False\n",
    "    \n",
    "    return True"
   ]
  },
  {
   "cell_type": "code",
   "execution_count": 8,
   "metadata": {
    "id": "UKC8Auub-HUF"
   },
   "outputs": [],
   "source": [
    "# Breadth First Search Implementation\n",
    "def BFS(maze, verbose=False):\n",
    "    start = mh.find_pos(maze, what=\"S\")\n",
    "    goal = mh.find_pos(maze, what=\"G\")\n",
    "    \n",
    "    node = Node(start, None, None, 0) # starting node\n",
    "    \n",
    "    if node.pos == goal: # if starting node is also goal node\n",
    "        return node\n",
    "    \n",
    "    frontier = [node] # a FIFO queue\n",
    "    reached = [node.pos]\n",
    "    \n",
    "    while len(frontier) > 0:\n",
    "        node = frontier.pop(0)\n",
    "        \n",
    "        if maze[node.pos] != 'S':\n",
    "            maze[node.pos] = 'P'\n",
    "                    \n",
    "        row, col = node.pos\n",
    "        \n",
    "        if row - 1 > 0: # if north is inside of maze\n",
    "            north = (row - 1, col)\n",
    "\n",
    "            north_node = Node(north, node, 'North', node.cost + 1)\n",
    "\n",
    "            if maze[north] == 'G': # if north child is goal\n",
    "                if verbose:\n",
    "                    mh.show_maze(maze)\n",
    "                    draw_final_path(maze, north_node)\n",
    "                    mh.show_maze(maze)\n",
    "                \n",
    "                return north_node\n",
    "            elif maze[north] != 'X' and north not in reached:\n",
    "                reached.append(north)\n",
    "                frontier.append(north_node)\n",
    "                maze[north] = 'F'\n",
    "            \n",
    "        if col + 1 < len(maze[0]): # if east is inside of maze\n",
    "            east = (row, col + 1)\n",
    "            \n",
    "            east_node = Node(east, node, 'East', node.cost + 1)\n",
    "\n",
    "            if maze[east] == 'G': # if east child is goal\n",
    "                if verbose:\n",
    "                    mh.show_maze(maze)\n",
    "                    draw_final_path(maze, east_node)\n",
    "                    mh.show_maze(maze)\n",
    "                \n",
    "                return east_node\n",
    "            elif maze[east] != 'X' and east not in reached:\n",
    "                reached.append(east)\n",
    "                frontier.append(east_node)\n",
    "                maze[east] = 'F'\n",
    "            \n",
    "        if row + 1 < len(maze[0]): # if south is inside of maze\n",
    "            south = (row + 1, col)\n",
    "            \n",
    "            south_node = Node(south, node, 'South', node.cost + 1)\n",
    "            \n",
    "            if maze[south] == 'G': # if south child is goal\n",
    "                if verbose:\n",
    "                    mh.show_maze(maze)\n",
    "                    draw_final_path(maze, south_node)\n",
    "                    mh.show_maze(maze)\n",
    "                \n",
    "                return south_node\n",
    "            elif maze[south] != 'X' and south not in reached:\n",
    "                reached.append(south)\n",
    "                frontier.append(south_node)\n",
    "                maze[south] = 'F'\n",
    "                        \n",
    "        if col - 1 > 0: # if west is inside of maze\n",
    "            west = (row, col - 1)\n",
    "            \n",
    "            west_node = Node(west, node, 'West', node.cost + 1)\n",
    "            \n",
    "            if maze[west] == 'G': # if west child is goal\n",
    "                if verbose:\n",
    "                    mh.show_maze(maze)\n",
    "                    draw_final_path(maze, west_node)\n",
    "                    mh.show_maze(maze)\n",
    "                \n",
    "                return west_node\n",
    "            elif maze[west] != 'X' and west not in reached:\n",
    "                reached.append(west)\n",
    "                frontier.append(west_node)\n",
    "                maze[west] = 'F'\n",
    "          \n",
    "        if verbose:\n",
    "            mh.show_maze(maze)\n",
    "        \n",
    "        if maze[node.pos] != 'S':\n",
    "            maze[node.pos] = '.'\n",
    "        \n",
    "                \n",
    "    return None"
   ]
  },
  {
   "cell_type": "code",
   "execution_count": 24,
   "metadata": {},
   "outputs": [
    {
     "data": {
      "image/png": "[encoded data removed]",
      "text/plain": [
       "<Figure size 640x480 with 1 Axes>"
      ]
     },
     "metadata": {
      "image/png": {
       "height": 269,
       "width": 534
      }
     },
     "output_type": "display_data"
    },
    {
     "data": {
      "image/png": "[encoded data removed]",
      "text/plain": [
       "<Figure size 640x480 with 1 Axes>"
      ]
     },
     "metadata": {
      "image/png": {
       "height": 269,
       "width": 534
      }
     },
     "output_type": "display_data"
    },
    {
     "name": "stdout",
     "output_type": "stream",
     "text": [
      "Path:\n",
      "Node - pos = (3, 11); action = None; cost = 0\n",
      "Node - pos = (3, 12); action = East; cost = 1\n",
      "Node - pos = (3, 13); action = East; cost = 2\n",
      "Node - pos = (4, 13); action = South; cost = 3\n",
      "Node - pos = (5, 13); action = South; cost = 4\n",
      "Node - pos = (5, 12); action = West; cost = 5\n",
      "Node - pos = (6, 12); action = South; cost = 6\n",
      "Node - pos = (7, 12); action = South; cost = 7\n",
      "Node - pos = (7, 11); action = West; cost = 8\n",
      "Node - pos = (7, 10); action = West; cost = 9\n",
      "Node - pos = (8, 10); action = South; cost = 10\n",
      "Node - pos = (8, 9); action = West; cost = 11\n",
      "Node - pos = (8, 8); action = West; cost = 12\n",
      "Node - pos = (8, 7); action = West; cost = 13\n",
      "Node - pos = (8, 6); action = West; cost = 14\n",
      "Node - pos = (8, 5); action = West; cost = 15\n",
      "Node - pos = (8, 4); action = West; cost = 16\n",
      "Node - pos = (8, 3); action = West; cost = 17\n",
      "Node - pos = (8, 2); action = West; cost = 18\n",
      "Node - pos = (8, 1); action = West; cost = 19\n"
     ]
    }
   ],
   "source": [
    "with open(\"small_maze.txt\", \"r\") as f:\n",
    "    maze_str = f.read()\n",
    "\n",
    "maze = mh.parse_maze(maze_str)\n",
    "\n",
    "mh.show_maze(maze)\n",
    "\n",
    "goal = BFS(maze)\n",
    "\n",
    "draw_final_path(maze, goal)\n",
    "mh.show_maze(maze)\n",
    "\n",
    "print('Path:')\n",
    "for node in goal.get_path_from_root():\n",
    "    print(node)"
   ]
  },
  {
   "cell_type": "code",
   "execution_count": 10,
   "metadata": {},
   "outputs": [],
   "source": [
    "import random\n",
    "\n",
    "# Depth First Search Implementation\n",
    "'''\n",
    "the depth variable is only used for Iterative Deepening Search,\n",
    "otherwise it is defaulted to infinity\n",
    "'''\n",
    "def DFS(maze, depth=float('inf'), verbose=False):\n",
    "    start = mh.find_pos(maze, what=\"S\")\n",
    "    goal = mh.find_pos(maze, what=\"G\")\n",
    "    \n",
    "    node = Node(start, None, None, 0) # starting node\n",
    "        \n",
    "    frontier = [node] # a LIFO stack\n",
    "    \n",
    "    counter = 0\n",
    "    \n",
    "    # counter and depth are only relevant when Iterative Deepening Search defines a depth\n",
    "    while len(frontier) > 0 and counter < depth:\n",
    "        counter += 1\n",
    "        \n",
    "        node = frontier.pop(-1) # takes the top node off the stack\n",
    "        \n",
    "        if node.pos == goal: # if the current node is the goal\n",
    "            if verbose:\n",
    "                draw_final_path(maze, node)\n",
    "                mh.show_maze(maze)\n",
    "                \n",
    "            return node\n",
    "        \n",
    "        if maze[node.pos] != 'S':\n",
    "            maze[node.pos] = 'P'\n",
    "\n",
    "        row, col = node.pos\n",
    "        \n",
    "        # the possible actions (north, south, east, west) that can be navigated to from the current tile\n",
    "        possible_actions = []\n",
    "\n",
    "        if row - 1 > 0: # if north is inside of maze\n",
    "            north = (row - 1, col)\n",
    "            \n",
    "            # if north isn't a wall and isn't already in the path\n",
    "            if maze[north] != 'X' and cycle_not_found(node, north):\n",
    "                # remove any earlier instances of north on the frontier \n",
    "                frontier = [node for node in frontier if node.pos != north]\n",
    "                \n",
    "                north_node = Node(north, node, 'North', node.cost + 1)\n",
    "                possible_actions.append(north_node)\n",
    "                if maze[north] != 'G':\n",
    "                    maze[north] = 'F'\n",
    "\n",
    "        if col + 1 < len(maze[0]): # if east is inside of maze\n",
    "            east = (row, col + 1)\n",
    "            \n",
    "            # if east isn't a wall and isn't already in the path\n",
    "            if maze[east] != 'X' and cycle_not_found(node, east):\n",
    "                # remove any earlier instances of east on the frontier\n",
    "                frontier = [node for node in frontier if node.pos != east]\n",
    "                \n",
    "                east_node = Node(east, node, 'East', node.cost + 1)\n",
    "                possible_actions.append(east_node)\n",
    "                if maze[east] != 'G':\n",
    "                    maze[east] = 'F'\n",
    "\n",
    "        if row + 1 < len(maze[0]): # if south is inside of maze\n",
    "            south = (row + 1, col)\n",
    "            \n",
    "            # if south isn't a wall and isn't already in the path\n",
    "            if maze[south] != 'X' and cycle_not_found(node, south):\n",
    "                # remove any earlier instances of south on the frontier\n",
    "                frontier = [node for node in frontier if node.pos != south]\n",
    "                \n",
    "                south_node = Node(south, node, 'South', node.cost + 1)\n",
    "                possible_actions.append(south_node)\n",
    "                if maze[south] != 'G':\n",
    "                    maze[south] = 'F'\n",
    "\n",
    "        if col - 1 > 0: # if west is inside of maze\n",
    "            west = (row, col - 1)\n",
    "            \n",
    "            # if west isn't a wall and isn't already in the path\n",
    "            if maze[west] != 'X' and cycle_not_found(node, west):\n",
    "                # remove any earlier instances of west on the frontier\n",
    "                frontier = [node for node in frontier if node.pos != west]\n",
    "                \n",
    "                west_node = Node(west, node, 'West', node.cost + 1)\n",
    "                possible_actions.append(west_node)\n",
    "                if maze[west] != 'G':\n",
    "                    maze[west] = 'F'\n",
    "\n",
    "        # add the possible actions to the frontier in a random order\n",
    "        random.shuffle(possible_actions)\n",
    "        frontier.extend(possible_actions)\n",
    "                    \n",
    "        if verbose:\n",
    "            mh.show_maze(maze)\n",
    "        \n",
    "        if maze[node.pos] != 'S':\n",
    "            maze[node.pos] = '.'\n",
    "            \n",
    "    if counter == depth: # if the depth limit is reached\n",
    "        return depth\n",
    "    else: # if there is no solution\n",
    "        return None\n"
   ]
  },
  {
   "cell_type": "code",
   "execution_count": 25,
   "metadata": {},
   "outputs": [
    {
     "data": {
      "image/png": "[encoded data removed]",
      "text/plain": [
       "<Figure size 640x480 with 1 Axes>"
      ]
     },
     "metadata": {
      "image/png": {
       "height": 269,
       "width": 534
      }
     },
     "output_type": "display_data"
    },
    {
     "data": {
      "image/png": "[encoded data removed]",
      "text/plain": [
       "<Figure size 640x480 with 1 Axes>"
      ]
     },
     "metadata": {
      "image/png": {
       "height": 269,
       "width": 534
      }
     },
     "output_type": "display_data"
    },
    {
     "name": "stdout",
     "output_type": "stream",
     "text": [
      "Path:\n",
      "Node - pos = (3, 11); action = None; cost = 0\n",
      "Node - pos = (3, 10); action = West; cost = 1\n",
      "Node - pos = (3, 9); action = West; cost = 2\n",
      "Node - pos = (3, 8); action = West; cost = 3\n",
      "Node - pos = (3, 7); action = West; cost = 4\n",
      "Node - pos = (3, 6); action = West; cost = 5\n",
      "Node - pos = (4, 6); action = South; cost = 6\n",
      "Node - pos = (5, 6); action = South; cost = 7\n",
      "Node - pos = (6, 6); action = South; cost = 8\n",
      "Node - pos = (6, 7); action = East; cost = 9\n",
      "Node - pos = (6, 8); action = East; cost = 10\n",
      "Node - pos = (5, 8); action = North; cost = 11\n",
      "Node - pos = (5, 9); action = East; cost = 12\n",
      "Node - pos = (5, 10); action = East; cost = 13\n",
      "Node - pos = (5, 11); action = East; cost = 14\n",
      "Node - pos = (5, 12); action = East; cost = 15\n",
      "Node - pos = (6, 12); action = South; cost = 16\n",
      "Node - pos = (7, 12); action = South; cost = 17\n",
      "Node - pos = (7, 11); action = West; cost = 18\n",
      "Node - pos = (7, 10); action = West; cost = 19\n",
      "Node - pos = (8, 10); action = South; cost = 20\n",
      "Node - pos = (8, 9); action = West; cost = 21\n",
      "Node - pos = (8, 8); action = West; cost = 22\n",
      "Node - pos = (8, 7); action = West; cost = 23\n",
      "Node - pos = (8, 6); action = West; cost = 24\n",
      "Node - pos = (8, 5); action = West; cost = 25\n",
      "Node - pos = (8, 4); action = West; cost = 26\n",
      "Node - pos = (8, 3); action = West; cost = 27\n",
      "Node - pos = (8, 2); action = West; cost = 28\n",
      "Node - pos = (8, 1); action = West; cost = 29\n"
     ]
    }
   ],
   "source": [
    "with open(\"small_maze.txt\", \"r\") as f:\n",
    "    maze_str = f.read()\n",
    "\n",
    "maze = mh.parse_maze(maze_str)\n",
    "\n",
    "mh.show_maze(maze)\n",
    "\n",
    "goal = DFS(maze)\n",
    "\n",
    "draw_final_path(maze, goal)\n",
    "mh.show_maze(maze)\n",
    "\n",
    "print('Path:')\n",
    "for node in goal.get_path_from_root():\n",
    "    print(node)"
   ]
  },
  {
   "cell_type": "markdown",
   "metadata": {
    "id": "QTwtHtpb-HUG"
   },
   "source": [
    "How does BFS and DFS deal with loops (cycles)?"
   ]
  },
  {
   "cell_type": "markdown",
   "metadata": {
    "id": "QAA9pdXQ-HUG"
   },
   "source": [
    "Breadth First Search and Depth First Search deal with loops in different ways:\n",
    "- **BFS:** Breadth First Search has a <code>reached</code> data structure that keeps track of all of the nodes it has already visited. Before adding a node to the frontier, BFS checks to see if the node is in <code>reached</code>. If it is, then it won't add it to the frontier; using this method, it won't visit any node more than once, preventing the possibility of infinite loops or cycles occuring.\n",
    "- **DFS:** Depth First Search has a cycle checking method that ensures that an infinite loop won't occur. Before adding a node to the frontier, DFS checks to see if the node is already part of its path (the nodes it has currently traversed over). If it is, then it won't add the node to the frontier. DFS also makes sure that a node is not present in the frontier multiple times (if it is, then it removes the earlier entries). By utilizing both of these processes (cycle checking and removing duplicates in the frontier), DFS ensures that a node is not visited more than once, preventing infinite loops and cycles from occuring."
   ]
  },
  {
   "cell_type": "markdown",
   "metadata": {
    "id": "QZ01ylYg-HUG"
   },
   "source": [
    "Are your implementations complete and optimal? Explain why. What is the time and space complexity of each of **your** implementations?"
   ]
  },
  {
   "cell_type": "markdown",
   "metadata": {
    "id": "J0-lKzGv-HUH"
   },
   "source": [
    "My implementation for **Breadth First Search** is both complete and optimal, as it will find a solution if there is one (making it complete), and since the cost is the same for every action, it will find the shortest path to the goal (making it optimal).\n",
    "\n",
    "My implementation for **Depth First Search** is complete (for finite spaces), but not optimal. Since the mazes we are solving with DFS are finite, DFS will find a solution (making it complete for finite spaces). However, DFS returns the first solution it finds; this makes it not optimal, as it won't necessarily find the shortest path to the goal.\n",
    "\n",
    "The time complexities of my implementations are:\n",
    "- **BFS**: <i>O(n)</i>, where <i>n</i> is the number of open nodes/tiles that the agent can visit (as the worst case scenario is that all open tiles are visited before the goal node is reached).\n",
    "- **DFS**: <i>O(n)</i>, where <i>n</i> is the number of open nodes/tiles that the agent can visit (as the worst case scenario is that all open tiles are visited only once before the goal node is reached).\n",
    "\n",
    "The space complexities of my implementations are:\n",
    "- **BFS**: <i>O(n)</i>, where <i>n</i> is the number of open nodes/tiles that the agent can visit (as the worst case scenario is that all open tiles are added to <code>reached</code> before the goal node is reached).\n",
    "- **DFS**: <i>O(d)</i>, where <i>d</i> is the depth of the path it finds from the start node to the goal node; since there is no <code>reached</code> data structure, only the nodes in the current path are stored in memory, which shrinks the space complexity for DFS to <i>O(d)</i>."
   ]
  },
  {
   "cell_type": "markdown",
   "metadata": {
    "id": "jhn805jj-HUH"
   },
   "source": [
    "## Task 3: Informed search: Implement greedy best-first search and A* search  [20 Points]\n",
    "\n",
    "You can use the map to estimate the distance from your current position to the goal using the Manhattan distance (see https://en.wikipedia.org/wiki/Taxicab_geometry) as a heuristic function. Both algorithms are based on Best-First search which requires only a small change from the BFS algorithm you have already implemented (see textbook/slides)."
   ]
  },
  {
   "cell_type": "code",
   "execution_count": 12,
   "metadata": {},
   "outputs": [],
   "source": [
    "# Helper Functions\n",
    "\n",
    "# finds the manhattan distance between two given positions in a maze\n",
    "def get_manhattan_distance(pos1, pos2):\n",
    "    row_diff = pos1[0] - pos2[0]\n",
    "    col_diff = pos1[1] - pos2[1]\n",
    "    \n",
    "    return abs(row_diff) + abs(col_diff)"
   ]
  },
  {
   "cell_type": "code",
   "execution_count": 13,
   "metadata": {
    "id": "UKC8Auub-HUF"
   },
   "outputs": [],
   "source": [
    "import bisect\n",
    "\n",
    "# Greedy Best First Search Implementation\n",
    "'''\n",
    "the cost for each node is equal to the manhattan distance\n",
    "from the node to the goal\n",
    "\n",
    "bisect.insort() is used to make the frontier a priority queue,\n",
    "as it inserts elements in sorted order by shortest manhattan distance\n",
    "'''\n",
    "def greedy_BFS(maze, verbose=False):\n",
    "    start = mh.find_pos(maze, what=\"S\")\n",
    "    goal = mh.find_pos(maze, what=\"G\")\n",
    "    \n",
    "    # start node\n",
    "    node = Node(start, None, None, get_manhattan_distance(start, goal))\n",
    "    \n",
    "    if node.pos == goal:\n",
    "        return node\n",
    "    \n",
    "    frontier = [node] # priority queue\n",
    "    reached = {node.pos: node} # lookup table\n",
    "    \n",
    "    while len(frontier) > 0:\n",
    "        node = frontier.pop(0)\n",
    "        \n",
    "        if maze[node.pos] != 'S':\n",
    "            maze[node.pos] = 'P'\n",
    "                    \n",
    "        row, col = node.pos\n",
    "        \n",
    "        if row - 1 > 0: # if north is inside of maze\n",
    "            north = (row - 1, col)\n",
    "\n",
    "            north_node = Node(north, node, 'North', get_manhattan_distance(north, goal))\n",
    "\n",
    "            if maze[north] == 'G': # if north child is goal\n",
    "                if verbose:\n",
    "                    mh.show_maze(maze)\n",
    "                    draw_final_path(maze, north_node)\n",
    "                    mh.show_maze(maze)\n",
    "                \n",
    "                return north_node\n",
    "            elif maze[north] != 'X' and north not in reached:\n",
    "                bisect.insort(frontier, north_node, key=lambda node: node.cost)\n",
    "                reached[north] = north_node\n",
    "                maze[north] = 'F'\n",
    "            \n",
    "        if col + 1 < len(maze[0]): # if east is inside of maze\n",
    "            east = (row, col + 1)\n",
    "            \n",
    "            east_node = Node(east, node, 'East', get_manhattan_distance(east, goal))\n",
    "\n",
    "            if maze[east] == 'G': # if east child is goal\n",
    "                if verbose:\n",
    "                    mh.show_maze(maze)\n",
    "                    draw_final_path(maze, east_node)\n",
    "                    mh.show_maze(maze)\n",
    "                \n",
    "                return east_node\n",
    "            elif maze[east] != 'X' and east not in reached:\n",
    "                bisect.insort(frontier, east_node, key=lambda node: node.cost)\n",
    "                reached[east] = east_node\n",
    "                maze[east] = 'F'\n",
    "            \n",
    "        if row + 1 < len(maze[0]): # if south is inside of maze\n",
    "            south = (row + 1, col)\n",
    "            \n",
    "            south_node = Node(south, node, 'South', get_manhattan_distance(south, goal))\n",
    "            \n",
    "            if maze[south] == 'G': # if south child is goal\n",
    "                if verbose:\n",
    "                    mh.show_maze(maze)\n",
    "                    draw_final_path(maze, south_node)\n",
    "                    mh.show_maze(maze)\n",
    "                \n",
    "                return south_node\n",
    "            elif maze[south] != 'X' and south not in reached:\n",
    "                bisect.insort(frontier, south_node, key=lambda node: node.cost)\n",
    "                reached[south] = south_node\n",
    "                maze[south] = 'F'\n",
    "                        \n",
    "        if col - 1 > 0: # if west is inside of maze\n",
    "            west = (row, col - 1)\n",
    "            \n",
    "            west_node = Node(west, node, 'West', get_manhattan_distance(west, goal))\n",
    "            \n",
    "            if maze[west] == 'G': # if west child is goal\n",
    "                if verbose:\n",
    "                    mh.show_maze(maze)\n",
    "                    draw_final_path(maze, west_node)\n",
    "                    mh.show_maze(maze)\n",
    "                \n",
    "                return west_node\n",
    "            elif maze[west] != 'X' and west not in reached:\n",
    "                bisect.insort(frontier, west_node, key=lambda node: node.cost)\n",
    "                reached[west] = west_node\n",
    "                maze[west] = 'F'\n",
    "          \n",
    "        if verbose:\n",
    "            mh.show_maze(maze)\n",
    "        \n",
    "        if maze[node.pos] != 'S':\n",
    "            maze[node.pos] = '.'\n",
    "        \n",
    "                \n",
    "    return None"
   ]
  },
  {
   "cell_type": "code",
   "execution_count": 26,
   "metadata": {},
   "outputs": [
    {
     "data": {
      "image/png": "[encoded data removed]",
      "text/plain": [
       "<Figure size 640x480 with 1 Axes>"
      ]
     },
     "metadata": {
      "image/png": {
       "height": 269,
       "width": 534
      }
     },
     "output_type": "display_data"
    },
    {
     "data": {
      "image/png": "[encoded data removed]",
      "text/plain": [
       "<Figure size 640x480 with 1 Axes>"
      ]
     },
     "metadata": {
      "image/png": {
       "height": 269,
       "width": 534
      }
     },
     "output_type": "display_data"
    },
    {
     "name": "stdout",
     "output_type": "stream",
     "text": [
      "Path:\n",
      "Node - pos = (3, 11); action = None; cost = 15\n",
      "Node - pos = (3, 10); action = West; cost = 14\n",
      "Node - pos = (3, 9); action = West; cost = 13\n",
      "Node - pos = (3, 8); action = West; cost = 12\n",
      "Node - pos = (3, 7); action = West; cost = 11\n",
      "Node - pos = (3, 6); action = West; cost = 10\n",
      "Node - pos = (4, 6); action = South; cost = 9\n",
      "Node - pos = (5, 6); action = South; cost = 8\n",
      "Node - pos = (6, 6); action = South; cost = 7\n",
      "Node - pos = (6, 7); action = East; cost = 8\n",
      "Node - pos = (6, 8); action = East; cost = 9\n",
      "Node - pos = (5, 8); action = North; cost = 10\n",
      "Node - pos = (5, 9); action = East; cost = 11\n",
      "Node - pos = (5, 10); action = East; cost = 12\n",
      "Node - pos = (5, 11); action = East; cost = 13\n",
      "Node - pos = (5, 12); action = East; cost = 14\n",
      "Node - pos = (6, 12); action = South; cost = 13\n",
      "Node - pos = (7, 12); action = South; cost = 12\n",
      "Node - pos = (7, 11); action = West; cost = 11\n",
      "Node - pos = (7, 10); action = West; cost = 10\n",
      "Node - pos = (8, 10); action = South; cost = 9\n",
      "Node - pos = (8, 9); action = West; cost = 8\n",
      "Node - pos = (8, 8); action = West; cost = 7\n",
      "Node - pos = (8, 7); action = West; cost = 6\n",
      "Node - pos = (8, 6); action = West; cost = 5\n",
      "Node - pos = (8, 5); action = West; cost = 4\n",
      "Node - pos = (8, 4); action = West; cost = 3\n",
      "Node - pos = (8, 3); action = West; cost = 2\n",
      "Node - pos = (8, 2); action = West; cost = 1\n",
      "Node - pos = (8, 1); action = West; cost = 0\n"
     ]
    }
   ],
   "source": [
    "with open(\"small_maze.txt\", \"r\") as f:\n",
    "    maze_str = f.read()\n",
    "\n",
    "maze = mh.parse_maze(maze_str)\n",
    "\n",
    "mh.show_maze(maze)\n",
    "\n",
    "goal = greedy_BFS(maze)\n",
    "\n",
    "draw_final_path(maze, goal)\n",
    "mh.show_maze(maze)\n",
    "\n",
    "print('Path:')\n",
    "for node in goal.get_path_from_root():\n",
    "    print(node)"
   ]
  },
  {
   "cell_type": "code",
   "execution_count": 19,
   "metadata": {},
   "outputs": [],
   "source": [
    "# A Star Search Implementation\n",
    "'''\n",
    "the cost for each node is equal to the manhattan distance\n",
    "from the node to the goal AND the path length from the node to the start\n",
    "\n",
    "bisect.insort() is used to make the frontier a priority queue,\n",
    "as it inserts elements in sorted order by cheapest cost\n",
    "'''\n",
    "def a_star_search(maze, verbose=False):\n",
    "    start = mh.find_pos(maze, what=\"S\")\n",
    "    goal = mh.find_pos(maze, what=\"G\")\n",
    "    \n",
    "    # start node\n",
    "    node = Node(start, None, None, get_manhattan_distance(start, goal))\n",
    "    \n",
    "    if node.pos == goal:\n",
    "        return node\n",
    "    \n",
    "    frontier = [node] # priority queue\n",
    "    reached = {node.pos: node} # lookup table\n",
    "    \n",
    "    while len(frontier) > 0:\n",
    "        node = frontier.pop(0)\n",
    "        \n",
    "        if maze[node.pos] != 'S':\n",
    "            maze[node.pos] = 'P'\n",
    "                    \n",
    "        row, col = node.pos\n",
    "        \n",
    "        if row - 1 > 0: # if north is inside of maze\n",
    "            north = (row - 1, col)\n",
    "\n",
    "            north_node = Node(north, node, 'North', get_manhattan_distance(north, goal) + len(node.get_path_from_root()) + 1)\n",
    "\n",
    "            if maze[north] == 'G':\n",
    "                if verbose:\n",
    "                    mh.show_maze(maze)\n",
    "                    draw_final_path(maze, north_node)\n",
    "                    mh.show_maze(maze)\n",
    "                \n",
    "                return north_node\n",
    "            elif maze[north] != 'X' and (north not in reached or north_node.cost < reached[north].cost):\n",
    "                bisect.insort(frontier, north_node, key=lambda node: node.cost)\n",
    "                reached[north] = north_node\n",
    "                maze[north] = 'F'\n",
    "            \n",
    "        if col + 1 < len(maze[0]): # if east is inside of maze\n",
    "            east = (row, col + 1)\n",
    "            \n",
    "            east_node = Node(east, node, 'East', get_manhattan_distance(east, goal) + len(node.get_path_from_root()) + 1)\n",
    "\n",
    "            if maze[east] == 'G':\n",
    "                if verbose:\n",
    "                    mh.show_maze(maze)\n",
    "                    draw_final_path(maze, east_node)\n",
    "                    mh.show_maze(maze)\n",
    "                \n",
    "                return east_node\n",
    "            elif maze[east] != 'X' and (east not in reached or east_node.cost < reached[east].cost):\n",
    "                bisect.insort(frontier, east_node, key=lambda node: node.cost)\n",
    "                reached[east] = east_node\n",
    "                maze[east] = 'F'\n",
    "            \n",
    "        if row + 1 < len(maze[0]): # if south is inside of maze\n",
    "            south = (row + 1, col)\n",
    "            \n",
    "            south_node = Node(south, node, 'South', get_manhattan_distance(south, goal) + len(node.get_path_from_root()) + 1)\n",
    "            \n",
    "            if maze[south] == 'G':\n",
    "                if verbose:\n",
    "                    mh.show_maze(maze)\n",
    "                    draw_final_path(maze, south_node)\n",
    "                    mh.show_maze(maze)\n",
    "                \n",
    "                return south_node\n",
    "            elif maze[south] != 'X' and (south not in reached or south_node.cost < reached[south].cost):\n",
    "                bisect.insort(frontier, south_node, key=lambda node: node.cost)\n",
    "                reached[south] = south_node\n",
    "                maze[south] = 'F'\n",
    "                        \n",
    "        if col - 1 > 0: # if west is inside of maze\n",
    "            west = (row, col - 1)\n",
    "            \n",
    "            west_node = Node(west, node, 'West', get_manhattan_distance(west, goal) + len(node.get_path_from_root()) + 1)\n",
    "            \n",
    "            if maze[west] == 'G':\n",
    "                if verbose:\n",
    "                    mh.show_maze(maze)\n",
    "                    draw_final_path(maze, west_node)\n",
    "                    mh.show_maze(maze)\n",
    "                \n",
    "                return west_node\n",
    "            elif maze[west] != 'X' and (west not in reached or west_node.cost < reached[west].cost):\n",
    "                bisect.insort(frontier, west_node, key=lambda node: node.cost)\n",
    "                reached[west] = west_node\n",
    "                maze[west] = 'F'\n",
    "          \n",
    "        if verbose:\n",
    "            mh.show_maze(maze)\n",
    "        \n",
    "        if maze[node.pos] != 'S':\n",
    "            maze[node.pos] = '.'\n",
    "        \n",
    "                \n",
    "    return None"
   ]
  },
  {
   "cell_type": "code",
   "execution_count": 27,
   "metadata": {},
   "outputs": [
    {
     "data": {
      "image/png": "[encoded data removed]",
      "text/plain": [
       "<Figure size 640x480 with 1 Axes>"
      ]
     },
     "metadata": {
      "image/png": {
       "height": 269,
       "width": 534
      }
     },
     "output_type": "display_data"
    },
    {
     "data": {
      "image/png": "[encoded data removed]",
      "text/plain": [
       "<Figure size 640x480 with 1 Axes>"
      ]
     },
     "metadata": {
      "image/png": {
       "height": 269,
       "width": 534
      }
     },
     "output_type": "display_data"
    },
    {
     "name": "stdout",
     "output_type": "stream",
     "text": [
      "Path:\n",
      "Node - pos = (3, 11); action = None; cost = 15\n",
      "Node - pos = (3, 12); action = East; cost = 18\n",
      "Node - pos = (3, 13); action = East; cost = 20\n",
      "Node - pos = (4, 13); action = South; cost = 20\n",
      "Node - pos = (5, 13); action = South; cost = 20\n",
      "Node - pos = (5, 12); action = West; cost = 20\n",
      "Node - pos = (6, 12); action = South; cost = 20\n",
      "Node - pos = (7, 12); action = South; cost = 20\n",
      "Node - pos = (7, 11); action = West; cost = 20\n",
      "Node - pos = (7, 10); action = West; cost = 20\n",
      "Node - pos = (8, 10); action = South; cost = 20\n",
      "Node - pos = (8, 9); action = West; cost = 20\n",
      "Node - pos = (8, 8); action = West; cost = 20\n",
      "Node - pos = (8, 7); action = West; cost = 20\n",
      "Node - pos = (8, 6); action = West; cost = 20\n",
      "Node - pos = (8, 5); action = West; cost = 20\n",
      "Node - pos = (8, 4); action = West; cost = 20\n",
      "Node - pos = (8, 3); action = West; cost = 20\n",
      "Node - pos = (8, 2); action = West; cost = 20\n",
      "Node - pos = (8, 1); action = West; cost = 20\n"
     ]
    }
   ],
   "source": [
    "with open(\"small_maze.txt\", \"r\") as f:\n",
    "    maze_str = f.read()\n",
    "\n",
    "maze = mh.parse_maze(maze_str)\n",
    "\n",
    "mh.show_maze(maze)\n",
    "\n",
    "goal = a_star_search(maze)\n",
    "\n",
    "draw_final_path(maze, goal)\n",
    "mh.show_maze(maze)\n",
    "\n",
    "print('Path:')\n",
    "for node in goal.get_path_from_root():\n",
    "    print(node)"
   ]
  },
  {
   "cell_type": "markdown",
   "metadata": {
    "id": "DqfsDaJO-HUH"
   },
   "source": [
    "Are your implementations complete and optimal? What is the time and space complexity?"
   ]
  },
  {
   "cell_type": "markdown",
   "metadata": {
    "id": "ADbrwLHz-HUI"
   },
   "source": [
    "My implementation for **Greedy Best First Search** is complete, but not optimal, as it will find a solution if there is one (making it complete), but the path it finds is not necessarily the shortest path to the goal (making it not optimal).\n",
    "\n",
    "My implementation for **A* Search** is both complete and optimal. A* Search will find a solution if one exists (making it complete), and using a combined cost evaluation of both a node's manhattan distance to the goal and the current path's length, it will always find the shortest path to the goal (making it optimal).\n",
    "\n",
    "The time complexities of my implementations are:\n",
    "- **Greedy BFS**: <i>O(n)</i>, where <i>n</i> is the number of open nodes/tiles that the agent visits (the worst case scenario is that all open tiles are visited before the goal node is reached, while best case scenario is that only the nodes on the found path are visited).\n",
    "- <b>A* Search</b>: <i>O(n)</i>, where <i>n</i> is the number of open nodes/tiles that the agent visits (the worst case scenario is that all open tiles are visited before the goal node is reached, while best case scenario is that only the nodes on the shortest path are visited).\n",
    "\n",
    "The space complexities of my implementations are:\n",
    "- **Greedy BFS**: <i>O(n)</i>, where <i>n</i> is the number of open nodes/tiles that the agent visits (the worst case scenario is that all open tiles are added to <code>reached</code> before the goal node is reached, while best case scenario is that only the nodes on the found path are added to <code>reached</code>).\n",
    "- <b>A* Search</b>: <i>O(n)</i>, where <i>n</i> is the number of open nodes/tiles that the agent visits (as the worst case scenario is that all open tiles are added to <code>reached</code> before the goal node is reached, while best case scenario is that only the nodes on the shortest path are added to <code>reached</code>)."
   ]
  },
  {
   "cell_type": "markdown",
   "metadata": {
    "id": "UCp7ChEc-HUI"
   },
   "source": [
    "## Task 4: Comparison and discussion [20 Points]\n",
    "\n",
    "Run experiments to compare the implemented algorithms.\n",
    "\n",
    "How to deal with issues:\n",
    "\n",
    "* Your implementation returns unexpected results: Try to debug and fix the code. Visualizing the maze, the current path and the frontier after every step is very helpful. If the code still does not work, then mark the result with an asterisk (*) and describe the issue below the table.\n",
    "\n",
    "* Your implementation cannot consistently solve a specific maze and ends up in an infinite loop:\n",
    "    Debug. If it is a shortcoming of the algorithm/implementation, then put \"N/A*\" in the results table and describe why this is happening."
   ]
  },
  {
   "cell_type": "code",
   "execution_count": 28,
   "metadata": {
    "id": "vyEscP60-HUI"
   },
   "outputs": [],
   "source": [
    "# Add code\n",
    "from copy import deepcopy\n",
    "\n",
    "with open(\"small_maze.txt\", \"r\") as f:\n",
    "    maze_str = f.read()\n",
    "\n",
    "maze = mh.parse_maze(maze_str)\n",
    "\n",
    "for i in range(10):\n",
    "    goal = BFS(deepcopy(maze))\n",
    "    goal = DFS(deepcopy(maze))\n",
    "    goal = greedy_BFS(deepcopy(maze))\n",
    "    goal = a_star_search(deepcopy(maze))"
   ]
  },
  {
   "cell_type": "markdown",
   "metadata": {
    "id": "OSziMwGr-HUI"
   },
   "source": [
    "Complete the following table for each maze.\n",
    "\n",
    "For the following tables, I defined each of the properties as follows:\n",
    "- **Path Cost**: The length of the found path (including the start and goal tiles); since there are no weights between nodes, the cost to move from one node/tile to another is always 1.\n",
    "- **Number of Nodes Expanded**: The number of nodes that were explored (i.e., all nodes that are either red or gray on the resulting maze).\n",
    "- **Max Tree Depth**: The length of the longest explored path (regardless of whether it resulted in reaching the goal node).\n",
    "- **Max Number of Nodes in Memory**: For DFS, this is the length of the longest explored path. For the other search algorithms, this is the number of nodes that were explored or in the frontier (i.e., all nodes that are red, yellow, or gray on the resulting maze).\n",
    "- **Max Frontier Size**: The maximum frontier size.\n",
    "\n",
    "**NOTE**: For most of these stats, I had to modify my original algorithms to record and return these values; after performing the analysis, I changed the algorithms back.\n",
    "\n",
    "__Small maze__\n",
    "\n",
    "| algorithm | path cost | # of nodes expanded | max tree depth | max # of nodes in memory | max frontier size |\n",
    "|-----------|-----------|----------------|----------------|---------------|-------------------|\n",
    "| BFS       |           |                |                |               |                   |\n",
    "| DFS       |           |                |                |               |                   |\n",
    "| Greedy BFS|           |                |                |               |                   |\n",
    "| A* Search |           |                |                |               |                   |\n",
    "\n",
    "__Medium Maze__\n",
    "\n",
    "..."
   ]
  },
  {
   "cell_type": "markdown",
   "metadata": {
    "id": "v_eFUhiI-HUJ"
   },
   "source": [
    "Present the results using charts (see [Python Code Examples/charts and tables](../HOWTOs/charts_and_tables.ipynb))."
   ]
  },
  {
   "cell_type": "code",
   "execution_count": null,
   "metadata": {
    "id": "CC0zvtmD-HUJ"
   },
   "outputs": [],
   "source": [
    "# Add charts"
   ]
  },
  {
   "cell_type": "markdown",
   "metadata": {
    "id": "eDOe2P8R-HUJ"
   },
   "source": [
    "Discuss the most important lessons you have learned from implementing the different search strategies."
   ]
  },
  {
   "cell_type": "code",
   "execution_count": null,
   "metadata": {
    "id": "PElipb_c-HUK"
   },
   "outputs": [],
   "source": [
    "# Add discussion"
   ]
  },
  {
   "cell_type": "markdown",
   "metadata": {
    "id": "9WVRY3XP-HUK"
   },
   "source": [
    "## Graduate student advanced task: IDS and Multiple goals [10 Points]\n",
    "\n",
    "__Undergraduate students:__ This is a bonus task you can attempt if you like [+5 Bonus Points].\n",
    "\n",
    "Create a few mazes with multiple goals by adding one or two more goals to the medium size maze.\n",
    "Solve the maze with your implementations for DFS, BFS, and implement in addition IDS (iterative deepening search using DFS).\n",
    "\n",
    "Run experiments to show which implementations find the optimal solution and which do not. Discuss why that is the case."
   ]
  },
  {
   "cell_type": "code",
   "execution_count": 44,
   "metadata": {
    "id": "Wiuyg7ez-HUK"
   },
   "outputs": [],
   "source": [
    "# Your code/answer goes here\n",
    "import copy\n",
    "\n",
    "def IDS(maze, verbose=False):\n",
    "    depth = 0\n",
    "    while depth < float('inf'):\n",
    "        if verbose:\n",
    "            print('Depth', depth)\n",
    "            result = DFS(copy.deepcopy(maze), depth, verbose)\n",
    "        else: #FIXME do I even need this?? does deepcopy make a big computational difference?\n",
    "            result = DFS(maze, depth, verbose)\n",
    "        if result != depth:\n",
    "            return result\n",
    "        depth += 1"
   ]
  },
  {
   "cell_type": "code",
   "execution_count": 47,
   "metadata": {},
   "outputs": [
    {
     "name": "stdout",
     "output_type": "stream",
     "text": [
      "Node - pos = (1, 35); action = None; cost = 0\n",
      "Node - pos = (1, 34); action = West; cost = 1\n",
      "Node - pos = (1, 33); action = West; cost = 2\n",
      "Node - pos = (2, 33); action = South; cost = 3\n",
      "Node - pos = (2, 34); action = East; cost = 4\n",
      "Node - pos = (3, 34); action = South; cost = 5\n",
      "Node - pos = (3, 33); action = West; cost = 6\n",
      "Node - pos = (3, 32); action = West; cost = 7\n",
      "Node - pos = (2, 32); action = North; cost = 8\n",
      "Node - pos = (1, 32); action = North; cost = 9\n",
      "Node - pos = (1, 31); action = West; cost = 10\n",
      "Node - pos = (2, 31); action = South; cost = 11\n",
      "Node - pos = (2, 30); action = West; cost = 12\n",
      "Node - pos = (1, 30); action = North; cost = 13\n",
      "Node - pos = (1, 29); action = West; cost = 14\n",
      "Node - pos = (1, 28); action = West; cost = 15\n",
      "Node - pos = (2, 28); action = South; cost = 16\n",
      "Node - pos = (2, 27); action = West; cost = 17\n",
      "Node - pos = (3, 27); action = South; cost = 18\n",
      "Node - pos = (3, 26); action = West; cost = 19\n",
      "Node - pos = (2, 26); action = North; cost = 20\n",
      "Node - pos = (2, 25); action = West; cost = 21\n",
      "Node - pos = (3, 25); action = South; cost = 22\n",
      "Node - pos = (4, 25); action = South; cost = 23\n",
      "Node - pos = (4, 24); action = West; cost = 24\n",
      "Node - pos = (5, 24); action = South; cost = 25\n",
      "Node - pos = (6, 24); action = South; cost = 26\n",
      "Node - pos = (7, 24); action = South; cost = 27\n",
      "Node - pos = (8, 24); action = South; cost = 28\n",
      "Node - pos = (9, 24); action = South; cost = 29\n",
      "Node - pos = (10, 24); action = South; cost = 30\n",
      "Node - pos = (11, 24); action = South; cost = 31\n",
      "Node - pos = (11, 23); action = West; cost = 32\n",
      "Node - pos = (11, 22); action = West; cost = 33\n",
      "Node - pos = (10, 22); action = North; cost = 34\n",
      "Node - pos = (9, 22); action = North; cost = 35\n",
      "Node - pos = (9, 23); action = East; cost = 36\n",
      "Node - pos = (8, 23); action = North; cost = 37\n",
      "Node - pos = (8, 22); action = West; cost = 38\n",
      "Node - pos = (8, 21); action = West; cost = 39\n",
      "Node - pos = (7, 21); action = North; cost = 40\n",
      "Node - pos = (7, 22); action = East; cost = 41\n",
      "Node - pos = (6, 22); action = North; cost = 42\n",
      "Node - pos = (6, 23); action = East; cost = 43\n",
      "Node - pos = (5, 23); action = North; cost = 44\n",
      "Node - pos = (4, 23); action = North; cost = 45\n",
      "Node - pos = (4, 22); action = West; cost = 46\n",
      "Node - pos = (4, 21); action = West; cost = 47\n",
      "Node - pos = (3, 21); action = North; cost = 48\n",
      "Node - pos = (2, 21); action = North; cost = 49\n",
      "Node - pos = (2, 22); action = East; cost = 50\n",
      "Node - pos = (2, 23); action = East; cost = 51\n",
      "Node - pos = (2, 24); action = East; cost = 52\n",
      "Node - pos = (1, 24); action = North; cost = 53\n",
      "Node - pos = (1, 23); action = West; cost = 54\n",
      "Node - pos = (1, 22); action = West; cost = 55\n",
      "Node - pos = (1, 21); action = West; cost = 56\n",
      "Node - pos = (1, 20); action = West; cost = 57\n",
      "Node - pos = (2, 20); action = South; cost = 58\n",
      "Node - pos = (2, 19); action = West; cost = 59\n",
      "Node - pos = (1, 19); action = North; cost = 60\n",
      "Node - pos = (1, 18); action = West; cost = 61\n",
      "Node - pos = (2, 18); action = South; cost = 62\n",
      "Node - pos = (3, 18); action = South; cost = 63\n",
      "Node - pos = (3, 17); action = West; cost = 64\n",
      "Node - pos = (2, 17); action = North; cost = 65\n",
      "Node - pos = (1, 17); action = North; cost = 66\n",
      "Node - pos = (1, 16); action = West; cost = 67\n",
      "Node - pos = (1, 15); action = West; cost = 68\n",
      "Node - pos = (2, 15); action = South; cost = 69\n",
      "Node - pos = (2, 14); action = West; cost = 70\n",
      "Node - pos = (3, 14); action = South; cost = 71\n",
      "Node - pos = (3, 15); action = East; cost = 72\n",
      "Node - pos = (4, 15); action = South; cost = 73\n",
      "Node - pos = (5, 15); action = South; cost = 74\n",
      "Node - pos = (5, 16); action = East; cost = 75\n",
      "Node - pos = (5, 17); action = East; cost = 76\n",
      "Node - pos = (6, 17); action = South; cost = 77\n",
      "Node - pos = (6, 16); action = West; cost = 78\n",
      "Node - pos = (6, 15); action = West; cost = 79\n",
      "Node - pos = (6, 14); action = West; cost = 80\n",
      "Node - pos = (7, 14); action = South; cost = 81\n",
      "Node - pos = (7, 15); action = East; cost = 82\n",
      "Node - pos = (8, 15); action = South; cost = 83\n",
      "Node - pos = (8, 14); action = West; cost = 84\n",
      "Node - pos = (9, 14); action = South; cost = 85\n",
      "Node - pos = (10, 14); action = South; cost = 86\n",
      "Node - pos = (11, 14); action = South; cost = 87\n",
      "Node - pos = (12, 14); action = South; cost = 88\n",
      "Node - pos = (13, 14); action = South; cost = 89\n",
      "Node - pos = (13, 15); action = East; cost = 90\n",
      "Node - pos = (14, 15); action = South; cost = 91\n",
      "Node - pos = (14, 16); action = East; cost = 92\n",
      "Node - pos = (13, 16); action = North; cost = 93\n",
      "Node - pos = (12, 16); action = North; cost = 94\n",
      "Node - pos = (12, 15); action = West; cost = 95\n",
      "Node - pos = (11, 15); action = North; cost = 96\n",
      "Node - pos = (11, 16); action = East; cost = 97\n",
      "Node - pos = (11, 17); action = East; cost = 98\n",
      "Node - pos = (11, 18); action = East; cost = 99\n",
      "Node - pos = (12, 18); action = South; cost = 100\n",
      "Node - pos = (13, 18); action = South; cost = 101\n",
      "Node - pos = (14, 18); action = South; cost = 102\n",
      "Node - pos = (15, 18); action = South; cost = 103\n",
      "Node - pos = (15, 17); action = West; cost = 104\n",
      "Node - pos = (15, 16); action = West; cost = 105\n",
      "Node - pos = (15, 15); action = West; cost = 106\n",
      "Node - pos = (16, 15); action = South; cost = 107\n",
      "Node - pos = (16, 16); action = East; cost = 108\n",
      "Node - pos = (17, 16); action = South; cost = 109\n",
      "Node - pos = (17, 15); action = West; cost = 110\n",
      "Node - pos = (18, 15); action = South; cost = 111\n",
      "Node - pos = (19, 15); action = South; cost = 112\n",
      "Node - pos = (19, 14); action = West; cost = 113\n",
      "Node - pos = (19, 13); action = West; cost = 114\n",
      "Node - pos = (20, 13); action = South; cost = 115\n",
      "Node - pos = (20, 12); action = West; cost = 116\n",
      "Node - pos = (19, 12); action = North; cost = 117\n",
      "Node - pos = (18, 12); action = North; cost = 118\n",
      "Node - pos = (18, 11); action = West; cost = 119\n",
      "Node - pos = (18, 10); action = West; cost = 120\n",
      "Node - pos = (17, 10); action = North; cost = 121\n",
      "Node - pos = (16, 10); action = North; cost = 122\n",
      "Node - pos = (16, 9); action = West; cost = 123\n",
      "Node - pos = (17, 9); action = South; cost = 124\n",
      "Node - pos = (18, 9); action = South; cost = 125\n",
      "Node - pos = (19, 9); action = South; cost = 126\n",
      "Node - pos = (19, 8); action = West; cost = 127\n",
      "Node - pos = (18, 8); action = North; cost = 128\n",
      "Node - pos = (17, 8); action = North; cost = 129\n",
      "Node - pos = (16, 8); action = North; cost = 130\n",
      "Node - pos = (16, 7); action = West; cost = 131\n",
      "Node - pos = (17, 7); action = South; cost = 132\n",
      "Node - pos = (17, 6); action = West; cost = 133\n",
      "Node - pos = (18, 6); action = South; cost = 134\n",
      "Node - pos = (18, 5); action = West; cost = 135\n",
      "Node - pos = (18, 4); action = West; cost = 136\n",
      "Node - pos = (17, 4); action = North; cost = 137\n",
      "Node - pos = (17, 5); action = East; cost = 138\n",
      "Node - pos = (16, 5); action = North; cost = 139\n",
      "Node - pos = (16, 4); action = West; cost = 140\n",
      "Node - pos = (16, 3); action = West; cost = 141\n",
      "Node - pos = (15, 3); action = North; cost = 142\n",
      "Node - pos = (15, 2); action = West; cost = 143\n",
      "Node - pos = (16, 2); action = South; cost = 144\n",
      "Node - pos = (17, 2); action = South; cost = 145\n",
      "Node - pos = (17, 1); action = West; cost = 146\n",
      "Node - pos = (18, 1); action = South; cost = 147\n",
      "Node - pos = (18, 2); action = East; cost = 148\n",
      "Node - pos = (19, 2); action = South; cost = 149\n",
      "Node - pos = (19, 1); action = West; cost = 150\n",
      "Node - pos = (20, 1); action = South; cost = 151\n",
      "Node - pos = (21, 1); action = South; cost = 152\n"
     ]
    }
   ],
   "source": [
    "with open(\"open_maze.txt\", \"r\") as f:\n",
    "    maze_str = f.read()\n",
    "\n",
    "maze = mh.parse_maze(maze_str)\n",
    "\n",
    "goal = IDS(maze)\n",
    "\n",
    "for node in goal.get_path_from_root():\n",
    "    print(node)"
   ]
  },
  {
   "cell_type": "markdown",
   "metadata": {
    "id": "o_GE5HuY-HUK"
   },
   "source": [
    "## More advanced tasks to think about\n",
    "\n",
    "Instead of defining each square as a state, use only intersections as states. Now the storage requirement is reduced, but the path length between two intersections can be different. If we use total path length measured as the number of squares as path cost, how can we make sure that BFS and iterative deepening search is optimal? Change the code to do so."
   ]
  },
  {
   "cell_type": "code",
   "execution_count": null,
   "metadata": {
    "id": "mLtOGWTc-HUY"
   },
   "outputs": [],
   "source": [
    "# Your code/answer goes here"
   ]
  },
  {
   "cell_type": "markdown",
   "metadata": {
    "id": "gEp0xE6_-HUY"
   },
   "source": [
    "Modify your A* search to add weights (see text book) and explore how different weights influence the result."
   ]
  },
  {
   "cell_type": "code",
   "execution_count": null,
   "metadata": {
    "id": "crVwa7ku-HUZ"
   },
   "outputs": [],
   "source": [
    "# Your code/answer goes here"
   ]
  },
  {
   "cell_type": "markdown",
   "metadata": {
    "id": "3pLrUpXX-HUa"
   },
   "source": [
    "What happens if the agent does not know the layout of the maze in advance (i.e., faces an unkown, only partially observable environment)? How does the environment look then (PEAS description)? How would you implement a rational agent to solve the maze? What if the agent still has a GPS device to tell the distance to the goal?"
   ]
  },
  {
   "cell_type": "code",
   "execution_count": null,
   "metadata": {
    "id": "VUWMJgxk-HUa"
   },
   "outputs": [],
   "source": [
    "# Your code/answer goes here"
   ]
  }
 ],
 "metadata": {
  "colab": {
   "provenance": []
  },
  "kernelspec": {
   "display_name": "Python 3 (ipykernel)",
   "language": "python",
   "name": "python3"
  },
  "language_info": {
   "codemirror_mode": {
    "name": "ipython",
    "version": 3
   },
   "file_extension": ".py",
   "mimetype": "text/x-python",
   "name": "python",
   "nbconvert_exporter": "python",
   "pygments_lexer": "ipython3",
   "version": "3.11.4"
  }
 },
 "nbformat": 4,
 "nbformat_minor": 1
}
