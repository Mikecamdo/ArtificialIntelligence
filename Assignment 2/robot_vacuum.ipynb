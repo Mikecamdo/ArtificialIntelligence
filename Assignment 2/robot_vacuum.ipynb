{
 "cells": [
  {
   "cell_type": "markdown",
   "metadata": {
    "id": "eM7QnclSr4Wa"
   },
   "source": [
    "# Intelligent Agents: Reflex-Based Agents for the Vacuum-cleaner World\n",
    "\n",
    "Student Name: Michael Doherty\n",
    "\n",
    "## Instructions\n",
    "\n",
    "Total Points: Undergrads 100 / Graduate students 110\n",
    "\n",
    "Complete this notebook. Use the provided notebook cells and insert additional code and markdown cells as needed. Submit the completely rendered notebook as a PDF file.\n",
    "\n",
    "## Introduction\n",
    "\n",
    "In this assignment you will implement a simulator environment for an automatic vacuum cleaner robot, a set of different reflex-based agent programs, and perform a comparison study for cleaning a single room. Focus on the __cleaning phase__ which starts when the robot is activated and ends when the last dirty square in the room has been cleaned. Someone else will take care of the agent program needed to navigate back to the charging station after the room is clean.\n",
    "\n",
    "## PEAS description of the cleaning phase\n",
    "\n",
    "__Performance Measure:__ Each action costs 1 energy unit. The performance is measured as the sum of the energy units used to clean the whole room.\n",
    "\n",
    "__Environment:__ A room with $n \\times n$ squares where $n = 5$. Dirt is randomly placed on each square with probability $p = 0.2$. For simplicity, you can assume that the agent knows the size and the layout of the room (i.e., it knows $n$). To start, the agent is placed on a random square.\n",
    "\n",
    "__Actuators:__ The agent can clean the current square (action `suck`) or move to an adjacent square by going `north`, `east`, `south`, or `west`.\n",
    "\n",
    "__Sensors:__ Four bumper sensors, one for north, east, south, and west; a dirt sensor reporting dirt in the current square.  \n",
    "\n",
    "\n",
    "## The agent program for a simple randomized agent\n",
    "\n",
    "The agent program is a function that gets sensor information (the current percepts) as the arguments. The arguments are:\n",
    "\n",
    "* A dictionary with boolean entries for the for bumper sensors `north`, `east`, `west`, `south`. E.g., if the agent is on the north-west corner, `bumpers` will be `{\"north\" : True, \"east\" : False, \"south\" : False, \"west\" : True}`.\n",
    "* The dirt sensor produces a boolean.\n",
    "\n",
    "The agent returns the chosen action as a string.\n",
    "\n",
    "Here is an example implementation for the agent program of a simple randomized agent:  "
   ]
  },
  {
   "cell_type": "code",
   "execution_count": 2,
   "metadata": {
    "id": "bxrDjnBxr4Wn"
   },
   "outputs": [],
   "source": [
    "import numpy as np\n",
    "\n",
    "actions = [\"north\", \"east\", \"west\", \"south\", \"suck\"]\n",
    "\n",
    "def simple_randomized_agent(bumpers, dirty):\n",
    "    return np.random.choice(actions)"
   ]
  },
  {
   "cell_type": "code",
   "execution_count": 3,
   "metadata": {
    "id": "cnyLyEKNr4Wt",
    "outputId": "63deb157-2e1e-47a8-c848-177a66011661"
   },
   "outputs": [
    {
     "data": {
      "text/plain": [
       "'east'"
      ]
     },
     "execution_count": 3,
     "metadata": {},
     "output_type": "execute_result"
    }
   ],
   "source": [
    "# define percepts (current location is NW corner and it is dirty)\n",
    "bumpers = {\"north\" : True, \"east\" : False, \"south\" : False, \"west\" : True}\n",
    "dirty = True\n",
    "\n",
    "# call agent program function with percepts and it returns an action\n",
    "simple_randomized_agent(bumpers, dirty)"
   ]
  },
  {
   "cell_type": "markdown",
   "metadata": {
    "id": "hN_B6uiPr4Wy"
   },
   "source": [
    "__Note:__ This is not a rational intelligent agent. It ignores its sensors and may bump into a wall repeatedly or not clean a dirty square. You will be asked to implement rational agents below."
   ]
  },
  {
   "cell_type": "markdown",
   "metadata": {
    "id": "BC3O51U4r4Wz"
   },
   "source": [
    "## Simple environment example\n",
    "\n",
    "We implement a simple simulation environment that supplies the agent with its percepts.\n",
    "The simple environment is infinite in size (bumpers are always `False`) and every square is always dirty, even if the agent cleans it. The environment function returns a performance measure which is here the number of cleaned squares (since the room is infinite and all squares are constantly dirty, the agent can never clean the whole room as required in the PEAS description above). The energy budget of the agent is specified as `max_steps`."
   ]
  },
  {
   "cell_type": "code",
   "execution_count": 4,
   "metadata": {
    "id": "butcplDZr4W1"
   },
   "outputs": [],
   "source": [
    "def simple_environment(agent, max_steps, verbose = True):\n",
    "    num_cleaned = 0\n",
    "\n",
    "    for i in range(max_steps):\n",
    "        dirty = True\n",
    "        bumpers = {\"north\" : False, \"south\" : False, \"west\" : False, \"east\" : False}\n",
    "\n",
    "        action = agent(bumpers, dirty)\n",
    "        if (verbose): print(\"step\", i , \"- action:\", action)\n",
    "\n",
    "        if (action == \"suck\"):\n",
    "            num_cleaned = num_cleaned + 1\n",
    "\n",
    "    return num_cleaned\n",
    "\n"
   ]
  },
  {
   "cell_type": "markdown",
   "metadata": {
    "id": "oIfr8KYIr4W2"
   },
   "source": [
    "Do one simulation run with a simple randomized agent that has enough energy for 20 steps."
   ]
  },
  {
   "cell_type": "code",
   "execution_count": 5,
   "metadata": {
    "id": "ev6rez-xr4W4",
    "outputId": "642f923d-8942-4f02-c9aa-8a1fb43c5a1e"
   },
   "outputs": [
    {
     "name": "stdout",
     "output_type": "stream",
     "text": [
      "step 0 - action: west\n",
      "step 1 - action: south\n",
      "step 2 - action: west\n",
      "step 3 - action: south\n",
      "step 4 - action: west\n",
      "step 5 - action: south\n",
      "step 6 - action: south\n",
      "step 7 - action: north\n",
      "step 8 - action: suck\n",
      "step 9 - action: suck\n",
      "step 10 - action: north\n",
      "step 11 - action: north\n",
      "step 12 - action: north\n",
      "step 13 - action: south\n",
      "step 14 - action: south\n",
      "step 15 - action: west\n",
      "step 16 - action: south\n",
      "step 17 - action: north\n",
      "step 18 - action: north\n",
      "step 19 - action: south\n"
     ]
    },
    {
     "data": {
      "text/plain": [
       "2"
      ]
     },
     "execution_count": 5,
     "metadata": {},
     "output_type": "execute_result"
    }
   ],
   "source": [
    "simple_environment(simple_randomized_agent, max_steps = 20)"
   ]
  },
  {
   "cell_type": "markdown",
   "metadata": {
    "id": "bpfAYmRDr4W6"
   },
   "source": [
    "# Tasks\n",
    "\n",
    "## General [10 Points]\n",
    "\n",
    "1. Make sure that you use the latest version of this notebook. Sync your forked repository and pull the latest revision.\n",
    "2. Your implementation can use libraries like math, numpy, scipy, but not libraries that implement inteligent agents or complete search algorithms. Try to keep the code simple! In this course, we want to learn about the algorithms and we often do not need to use object-oriented design.\n",
    "3. You notebook needs to be formated professionally.\n",
    "    - Add additional markdown blocks for your description, comments in the code, add tables and use mathplotlib to produce charts where appropriate\n",
    "    - Do not show debugging output or include an excessive amount of output.\n",
    "    - Check that your PDF file is readable. For example, long lines are cut off in the PDF file. You don't have control over page breaks, so do not worry about these.\n",
    "4. Document your code. Add a short discussion of how your implementation works and your design choices.\n",
    "\n",
    "\n",
    "## Task 1: Implement a simulation environment [20 Points]\n",
    "\n",
    "The simple environment above is not very realistic. Your environment simulator needs to follow the PEAS description from above. It needs to:\n",
    "\n",
    "* Initialize the environment by storing the state of each square (clean/dirty) and making some dirty. ([Help with random numbers and arrays in Python](https://github.com/mhahsler/CS7320-AI/blob/master/HOWTOs/random_numbers_and_arrays.ipynb))\n",
    "* Keep track of the agent's position.\n",
    "* Call the agent function repeatedly and provide the agent function with the sensor inputs.  \n",
    "* React to the agent's actions. E.g, by removing dirt from a square or moving the agent around unless there is a wall in the way.\n",
    "* Keep track of the performance measure. That is, track the agent's actions until all dirty squares are clean and count the number of actions it takes the agent to complete the task.\n",
    "\n",
    "The easiest implementation for the environment is to hold an 2-dimensional array to represent if squares are clean or dirty and to call the agent function in a loop until all squares are clean or a predefined number of steps have been reached (i.e., the robot runs out of energy).\n",
    "\n",
    "The simulation environment should be a function like the `simple_environment()` and needs to work with the simple randomized agent program from above. **Use the same environment for all your agent implementations in the tasks below.**\n",
    "\n",
    "*Note on debugging:* Debugging is difficult. Make sure your environment prints enough information when you use `verbose = True`. Also, implementing a function that the environment can use to displays the room with dirt and the current position of the robot at every step is very useful.  "
   ]
  },
  {
   "cell_type": "code",
   "execution_count": 6,
   "metadata": {
    "id": "FmZnvlwtr4W8"
   },
   "outputs": [
    {
     "name": "stdout",
     "output_type": "stream",
     "text": [
      "step 0 - current position: (0, 0) - action: east\n",
      "step 1 - current position: (0, 1) - action: east\n",
      "step 2 - current position: (0, 2) - action: west\n",
      "step 3 - current position: (0, 1) - action: suck\n",
      "step 4 - current position: (0, 1) - action: east\n",
      "step 5 - current position: (0, 2) - action: west\n",
      "step 6 - current position: (0, 1) - action: east\n",
      "step 7 - current position: (0, 2) - action: south\n",
      "step 8 - current position: (1, 2) - action: west\n",
      "step 9 - current position: (1, 1) - action: west\n",
      "step 10 - current position: (1, 0) - action: south\n",
      "step 11 - current position: (2, 0) - action: suck\n",
      "step 12 - current position: (2, 0) - action: west\n",
      "step 13 - current position: (2, 0) - action: east\n",
      "step 14 - current position: (2, 1) - action: south\n",
      "step 15 - current position: (3, 1) - action: suck\n",
      "step 16 - current position: (3, 1) - action: suck\n",
      "step 17 - current position: (3, 1) - action: north\n",
      "step 18 - current position: (2, 1) - action: north\n",
      "step 19 - current position: (1, 1) - action: east\n",
      "step 20 - current position: (1, 2) - action: east\n",
      "step 21 - current position: (1, 3) - action: west\n",
      "step 22 - current position: (1, 2) - action: north\n",
      "step 23 - current position: (0, 2) - action: suck\n",
      "step 24 - current position: (0, 2) - action: east\n",
      "step 25 - current position: (0, 3) - action: west\n",
      "step 26 - current position: (0, 2) - action: north\n",
      "step 27 - current position: (0, 2) - action: south\n",
      "step 28 - current position: (1, 2) - action: west\n",
      "step 29 - current position: (1, 1) - action: east\n",
      "step 30 - current position: (1, 2) - action: north\n",
      "step 31 - current position: (0, 2) - action: west\n",
      "step 32 - current position: (0, 1) - action: east\n",
      "step 33 - current position: (0, 2) - action: east\n",
      "step 34 - current position: (0, 3) - action: north\n",
      "step 35 - current position: (0, 3) - action: south\n",
      "step 36 - current position: (1, 3) - action: suck\n",
      "step 37 - current position: (1, 3) - action: west\n",
      "step 38 - current position: (1, 2) - action: suck\n",
      "step 39 - current position: (1, 2) - action: north\n",
      "step 40 - current position: (0, 2) - action: north\n",
      "step 41 - current position: (0, 2) - action: south\n",
      "step 42 - current position: (1, 2) - action: north\n",
      "step 43 - current position: (0, 2) - action: east\n",
      "step 44 - current position: (0, 3) - action: east\n",
      "step 45 - current position: (0, 4) - action: south\n",
      "step 46 - current position: (1, 4) - action: north\n",
      "step 47 - current position: (0, 4) - action: north\n",
      "step 48 - current position: (0, 4) - action: south\n",
      "step 49 - current position: (1, 4) - action: east\n",
      "step 50 - current position: (1, 4) - action: south\n",
      "step 51 - current position: (2, 4) - action: south\n",
      "step 52 - current position: (3, 4) - action: north\n",
      "step 53 - current position: (2, 4) - action: west\n",
      "step 54 - current position: (2, 3) - action: east\n",
      "step 55 - current position: (2, 4) - action: suck\n",
      "step 56 - current position: (2, 4) - action: south\n",
      "step 57 - current position: (3, 4) - action: east\n",
      "step 58 - current position: (3, 4) - action: west\n",
      "step 59 - current position: (3, 3) - action: suck\n",
      "step 60 - current position: (3, 3) - action: south\n",
      "step 61 - current position: (4, 3) - action: west\n",
      "step 62 - current position: (4, 2) - action: west\n",
      "step 63 - current position: (4, 1) - action: west\n",
      "step 64 - current position: (4, 0) - action: suck\n",
      "step 65 - current position: (4, 0) - action: north\n",
      "step 66 - current position: (3, 0) - action: east\n",
      "step 67 - current position: (3, 1) - action: north\n",
      "step 68 - current position: (2, 1) - action: north\n",
      "step 69 - current position: (1, 1) - action: west\n",
      "step 70 - current position: (1, 0) - action: south\n",
      "step 71 - current position: (2, 0) - action: south\n",
      "step 72 - current position: (3, 0) - action: north\n",
      "step 73 - current position: (2, 0) - action: north\n",
      "step 74 - current position: (1, 0) - action: west\n",
      "step 75 - current position: (1, 0) - action: west\n",
      "step 76 - current position: (1, 0) - action: east\n",
      "step 77 - current position: (1, 1) - action: west\n",
      "step 78 - current position: (1, 0) - action: south\n",
      "step 79 - current position: (2, 0) - action: west\n",
      "step 80 - current position: (2, 0) - action: south\n",
      "step 81 - current position: (3, 0) - action: east\n",
      "step 82 - current position: (3, 1) - action: west\n",
      "step 83 - current position: (3, 0) - action: east\n",
      "step 84 - current position: (3, 1) - action: east\n",
      "step 85 - current position: (3, 2) - action: suck\n",
      "step 86 - current position: (3, 2) - action: east\n",
      "step 87 - current position: (3, 3) - action: north\n",
      "step 88 - current position: (2, 3) - action: north\n",
      "step 89 - current position: (1, 3) - action: east\n",
      "step 90 - current position: (1, 4) - action: west\n",
      "step 91 - current position: (1, 3) - action: south\n",
      "step 92 - current position: (2, 3) - action: suck\n",
      "step 93 - current position: (2, 3) - action: south\n",
      "step 94 - current position: (3, 3) - action: east\n",
      "step 95 - current position: (3, 4) - action: north\n",
      "step 96 - current position: (2, 4) - action: north\n",
      "step 97 - current position: (1, 4) - action: north\n",
      "step 98 - current position: (0, 4) - action: west\n",
      "step 99 - current position: (0, 3) - action: south\n",
      "step 100 - current position: (1, 3) - action: west\n",
      "step 101 - current position: (1, 2) - action: suck\n",
      "step 102 - current position: (1, 2) - action: east\n",
      "step 103 - current position: (1, 3) - action: east\n",
      "step 104 - current position: (1, 4) - action: south\n",
      "step 105 - current position: (2, 4) - action: south\n",
      "step 106 - current position: (3, 4) - action: north\n",
      "step 107 - current position: (2, 4) - action: south\n",
      "step 108 - current position: (3, 4) - action: east\n",
      "step 109 - current position: (3, 4) - action: east\n",
      "step 110 - current position: (3, 4) - action: south\n",
      "step 111 - current position: (4, 4) - action: west\n",
      "step 112 - current position: (4, 3) - action: south\n",
      "step 113 - current position: (4, 3) - action: suck\n",
      "step 114 - current position: (4, 3) - action: suck\n",
      "step 115 - current position: (4, 3) - action: south\n",
      "step 116 - current position: (4, 3) - action: south\n",
      "step 117 - current position: (4, 3) - action: south\n",
      "step 118 - current position: (4, 3) - action: north\n",
      "step 119 - current position: (3, 3) - action: south\n",
      "step 120 - current position: (4, 3) - action: south\n",
      "step 121 - current position: (4, 3) - action: north\n",
      "step 122 - current position: (3, 3) - action: west\n",
      "step 123 - current position: (3, 2) - action: suck\n",
      "step 124 - current position: (3, 2) - action: west\n",
      "step 125 - current position: (3, 1) - action: north\n",
      "step 126 - current position: (2, 1) - action: suck\n"
     ]
    },
    {
     "data": {
      "text/plain": [
       "127"
      ]
     },
     "execution_count": 6,
     "metadata": {},
     "output_type": "execute_result"
    }
   ],
   "source": [
    "import numpy as np\n",
    "rng = np.random.default_rng() # global random number generator\n",
    "\n",
    "def simulation_environment(agent, size=5, max_steps=999999, verbose=True):\n",
    "    # FIXME: probably need to change how the room is initialized\n",
    "    \n",
    "    # the room the agent is cleaning\n",
    "    room = rng.choice(['dirty', 'clean'], \n",
    "                      size = (size,size), \n",
    "                      p = [0.2, 0.8])\n",
    "    \n",
    "    # the current number of dirty squares\n",
    "    dirty_count = np.count_nonzero(room == 'dirty')\n",
    "\n",
    "    # the history of actions the agent takes\n",
    "    actions = []\n",
    "    \n",
    "    # the number of actions the agent takes\n",
    "    num_actions = 0\n",
    "    \n",
    "    # where the agent is currently located\n",
    "    agent_position = (rng.integers(0, size), rng.integers(0, size)) \n",
    "    \n",
    "    min = 0\n",
    "    max = size - 1\n",
    "\n",
    "    for i in range(max_steps):\n",
    "        row, col = agent_position\n",
    "        dirty = True if room[row][col] == 'dirty' else False\n",
    "        bumpers = {\"north\" : True if row == min else False,\n",
    "                   \"south\" : True if row == max else False,\n",
    "                   \"west\"  : True if col == min else False,\n",
    "                   \"east\"  : True if col == max else False}\n",
    "\n",
    "        action = agent(bumpers, dirty)\n",
    "        if verbose: \n",
    "            print(\"step\", i , '- current position:', agent_position, \"- action:\", action)\n",
    "            \n",
    "        actions.append(action)\n",
    "        \n",
    "        if action == 'north' and row != min:\n",
    "            row -= 1\n",
    "        elif action == 'south' and row != max:\n",
    "            row += 1\n",
    "        elif action == 'west' and col != min:\n",
    "            col -= 1\n",
    "        elif action == 'east' and col != max:\n",
    "            col += 1\n",
    "        elif action == 'suck' and dirty: # if action == 'suck'\n",
    "            room[row][col] = 'clean'\n",
    "            dirty_count -= 1\n",
    "            \n",
    "        agent_position = (row, col)\n",
    "        \n",
    "        num_actions += 1\n",
    "        \n",
    "        if dirty_count == 0:\n",
    "            break\n",
    "\n",
    "    return num_actions\n",
    "\n",
    "simulation_environment(simple_randomized_agent)"
   ]
  },
  {
   "cell_type": "markdown",
   "metadata": {
    "id": "v41Va3SYr4W-"
   },
   "source": [
    "## Task 2:  Implement a simple reflex agent [10 Points]\n",
    "\n",
    "The simple reflex agent randomly walks around but reacts to the bumper sensor by not bumping into the wall and to dirt with sucking. Implement the agent program as a function.\n",
    "\n",
    "_Note:_ Agents cannot directly use variable in the environment. They only gets the percepts as the arguments to the agent function."
   ]
  },
  {
   "cell_type": "code",
   "execution_count": 11,
   "metadata": {
    "id": "7LED2-PAr4W_"
   },
   "outputs": [
    {
     "name": "stdout",
     "output_type": "stream",
     "text": [
      "step 0 - current position: (3, 1) - action: west\n",
      "step 1 - current position: (3, 0) - action: north\n",
      "step 2 - current position: (2, 0) - action: east\n",
      "step 3 - current position: (2, 1) - action: west\n",
      "step 4 - current position: (2, 0) - action: east\n",
      "step 5 - current position: (2, 1) - action: west\n",
      "step 6 - current position: (2, 0) - action: north\n",
      "step 7 - current position: (1, 0) - action: east\n",
      "step 8 - current position: (1, 1) - action: suck\n",
      "step 9 - current position: (1, 1) - action: west\n",
      "step 10 - current position: (1, 0) - action: south\n",
      "step 11 - current position: (2, 0) - action: south\n",
      "step 12 - current position: (3, 0) - action: east\n",
      "step 13 - current position: (3, 1) - action: north\n",
      "step 14 - current position: (2, 1) - action: north\n",
      "step 15 - current position: (1, 1) - action: west\n",
      "step 16 - current position: (1, 0) - action: north\n",
      "step 17 - current position: (0, 0) - action: south\n",
      "step 18 - current position: (1, 0) - action: east\n",
      "step 19 - current position: (1, 1) - action: south\n",
      "step 20 - current position: (2, 1) - action: west\n",
      "step 21 - current position: (2, 0) - action: east\n",
      "step 22 - current position: (2, 1) - action: north\n",
      "step 23 - current position: (1, 1) - action: east\n",
      "step 24 - current position: (1, 2) - action: west\n",
      "step 25 - current position: (1, 1) - action: north\n",
      "step 26 - current position: (0, 1) - action: suck\n"
     ]
    },
    {
     "data": {
      "text/plain": [
       "27"
      ]
     },
     "execution_count": 11,
     "metadata": {},
     "output_type": "execute_result"
    }
   ],
   "source": [
    "def simple_reflex_agent(bumpers, dirty):\n",
    "    if dirty:\n",
    "        return 'suck'\n",
    "    \n",
    "    # filters out invalid moves and randomly chooses a valid one\n",
    "    possible_actions = [key for key, value in bumpers.items() if value != True]\n",
    "    choice = rng.integers(0, len(possible_actions))\n",
    "    return possible_actions[choice]\n",
    "\n",
    " \n",
    "simulation_environment(simple_reflex_agent)"
   ]
  },
  {
   "cell_type": "markdown",
   "metadata": {
    "id": "n9LfLHVqr4XA"
   },
   "source": [
    "## Task 3: Implement a model-based reflex agent [20 Points]\n",
    "\n",
    "Model-based agents use a state to keep track of what they have done and perceived so far. Your agent needs to find out where it is located and then keep track of its current location. You also need a set of rules based on the state and the percepts to make sure that the agent will clean the whole room. For example, the agent can move to a corner to determine its location and then it can navigate through the whole room and clean dirty squares.\n",
    "\n",
    "Describe how you define the __agent state__ and how your agent works before implementing it. ([Help with implementing state information on Python](https://github.com/mhahsler/CS7320-AI/blob/master/HOWTOs/store_agent_state_information.ipynb))"
   ]
  },
  {
   "cell_type": "code",
   "execution_count": null,
   "metadata": {
    "id": "e1o3MJapr4XC"
   },
   "outputs": [],
   "source": [
    "# Your short description of the state and your implementation goes here\n",
    "#FIXME need to come back and do this!"
   ]
  },
  {
   "cell_type": "code",
   "execution_count": 13,
   "metadata": {
    "id": "3btOxU-kr4XD"
   },
   "outputs": [
    {
     "name": "stdout",
     "output_type": "stream",
     "text": [
      "step 0 - current position: (3, 3) - action: north\n",
      "step 1 - current position: (2, 3) - action: north\n",
      "step 2 - current position: (1, 3) - action: suck\n",
      "step 3 - current position: (1, 3) - action: north\n",
      "step 4 - current position: (0, 3) - action: west\n",
      "step 5 - current position: (0, 2) - action: west\n",
      "step 6 - current position: (0, 1) - action: west\n",
      "step 7 - current position: (0, 0) - action: east\n",
      "step 8 - current position: (0, 1) - action: east\n",
      "step 9 - current position: (0, 2) - action: east\n",
      "step 10 - current position: (0, 3) - action: east\n",
      "step 11 - current position: (0, 4) - action: south\n",
      "step 12 - current position: (1, 4) - action: west\n",
      "step 13 - current position: (1, 3) - action: west\n",
      "step 14 - current position: (1, 2) - action: suck\n",
      "step 15 - current position: (1, 2) - action: west\n",
      "step 16 - current position: (1, 1) - action: west\n",
      "step 17 - current position: (1, 0) - action: suck\n",
      "step 18 - current position: (1, 0) - action: south\n",
      "step 19 - current position: (2, 0) - action: east\n",
      "step 20 - current position: (2, 1) - action: east\n",
      "step 21 - current position: (2, 2) - action: east\n",
      "step 22 - current position: (2, 3) - action: east\n",
      "step 23 - current position: (2, 4) - action: south\n",
      "step 24 - current position: (3, 4) - action: west\n",
      "step 25 - current position: (3, 3) - action: west\n",
      "step 26 - current position: (3, 2) - action: west\n",
      "step 27 - current position: (3, 1) - action: suck\n"
     ]
    },
    {
     "data": {
      "text/plain": [
       "28"
      ]
     },
     "execution_count": 13,
     "metadata": {},
     "output_type": "execute_result"
    }
   ],
   "source": [
    "class Model_Based_Reflex_Agent:\n",
    "    def __init__(self): \n",
    "        self.position = (None, None) # keeps track of the agent's current position\n",
    "        self.direction = None # keeps track of the agent's direction (when in it's zig-zag pattern)\n",
    "    \n",
    "    def act(self, bumpers, dirty):\n",
    "        if dirty: # clean a tile if it's dirty\n",
    "            return 'suck'\n",
    "        \n",
    "        row, col = self.position\n",
    "        \n",
    "        if row is None: # if the agent doesn't know what row it is on\n",
    "            if bumpers['north']:\n",
    "                row = 0\n",
    "                self.position = (row, col)\n",
    "            else:\n",
    "                return 'north'\n",
    "            \n",
    "        if col is None: # if the agent doesn't know what column it is on\n",
    "            if bumpers['west']:\n",
    "                col = 0\n",
    "                self.position = (row, col)\n",
    "            else:\n",
    "                return 'west'\n",
    "        \n",
    "        if self.position == (0, 0): # begins zig-zag pattern\n",
    "            self.direction = 'east'\n",
    "            self.position = (row, col + 1)\n",
    "            return self.direction\n",
    "        \n",
    "        if not bumpers[self.direction]: # move across each row\n",
    "            self.position = (row, col + 1) if self.direction == 'east' else (row, col - 1)\n",
    "            return self.direction\n",
    "        else: # when the end of a row is reached, go to the next row\n",
    "            self.direction = 'west' if self.direction == 'east' else 'east'\n",
    "            self.position = (row + 1, col)\n",
    "            return 'south'\n",
    "            \n",
    "\n",
    "model_based_reflex_agent = Model_Based_Reflex_Agent()\n",
    "simulation_environment(model_based_reflex_agent.act)"
   ]
  },
  {
   "cell_type": "markdown",
   "metadata": {
    "id": "d-_wvpyFr4XD"
   },
   "source": [
    "## Task 4: Simulation study [30 Points]\n",
    "\n",
    "Compare the performance (the performance measure is defined in the PEAS description above) of the agents using  environments of different size. E.g., $5 \\times 5$, $10 \\times 10$ and\n",
    "$100 \\times 100$. Use 100 random runs for each. Present the results using tables and graphs. Discuss the differences between the agents.\n",
    "([Help with charts and tables in Python](https://github.com/mhahsler/CS7320-AI/blob/master/HOWTOs/charts_and_tables.ipynb))"
   ]
  },
  {
   "cell_type": "code",
   "execution_count": null,
   "metadata": {
    "id": "ulRaeq9lr4XE"
   },
   "outputs": [],
   "source": [
    "# Your code goes here"
   ]
  },
  {
   "cell_type": "markdown",
   "metadata": {
    "id": "QvyRYwG3r4XG"
   },
   "source": [
    "Fill out the following table with the average performance measure for 100 random runs (you may also create this table with code):\n",
    "\n",
    "| Size     | Randomized Agent | Simple Reflex Agent | Model-based Reflex Agent |\n",
    "|----------|------------------|---------------------|--------------------------|\n",
    "| 5x5     | | | |\n",
    "| 10x10   | | | |\n",
    "| 100x100 | | | |\n",
    "\n",
    "Add charts to compare the performance of the different agents."
   ]
  },
  {
   "cell_type": "code",
   "execution_count": null,
   "metadata": {
    "id": "d1Jc-T3Er4XH"
   },
   "outputs": [],
   "source": [
    "# Your graphs and discussion of the results goes here"
   ]
  },
  {
   "cell_type": "markdown",
   "metadata": {
    "id": "FryyoC4Pr4XJ"
   },
   "source": [
    "## Task 5: Robustness of the agent implementations [10 Points]\n",
    "\n",
    "Describe how **your agent implementations** will perform\n",
    "\n",
    "* if it is put into a rectangular room with unknown size,\n",
    "* if the cleaning area can have an iregular shape (e.g., a hallway connecting two rooms), or\n",
    "* if the room contains obstacles (i.e., squares that it cannot pass through and trigger the bumper sensors)."
   ]
  },
  {
   "cell_type": "code",
   "execution_count": null,
   "metadata": {
    "id": "Oh1fK269r4XK"
   },
   "outputs": [],
   "source": [
    "# Answer goes here"
   ]
  },
  {
   "cell_type": "markdown",
   "metadata": {
    "id": "rHQqaXoJr4XK"
   },
   "source": [
    "## Graduate student advanced task: Obstacles [10 Points]\n",
    "\n",
    "__Undergraduate students:__ This is a bonus task you can attempt if you like [+5 Bonus Points].\n",
    "\n",
    "1. Change your simulation environment tor run experiments for the following problem: Add random obstacle squares that also trigger the bumper sensor. The agent does not know where the obstacles are. Observe how this changes the performance of the three implementations.\n",
    "\n",
    "2. Describe what would need to be done to perform better with obstacles. Add code if you can."
   ]
  },
  {
   "cell_type": "code",
   "execution_count": null,
   "metadata": {
    "id": "owQDOZbHr4XL"
   },
   "outputs": [],
   "source": [
    "# Your code and discussion goes here"
   ]
  },
  {
   "cell_type": "markdown",
   "metadata": {
    "id": "Ns6WA3tPr4XM"
   },
   "source": [
    "## More advanced implementation tasks\n",
    "\n",
    "* __Agent for and environment with obstacles:__ Implement an agent for an environment where the agent does not know how large the environment is (we assume it is rectangular), where it starts or where the obstacles are. An option would be to always move to the closest unchecked/uncleaned square (note that this is actualy depth-first search).\n",
    "\n",
    "* __Utility-based agent:__ Change the environment for a $5 \\times 5$ room, so each square has a fixed probability of getting dirty again. For the implementation, we give the environment a 2-dimensional array of probabilities. The utility of a state is defined as the number of currebntly clean squares in the room. Implement a utility-based agent that maximizes the expected utility over one full charge which lasts for 100000 time steps. To do this, the agent needs to learn the probabilities with which different squares get dirty again. This is very tricky!"
   ]
  },
  {
   "cell_type": "code",
   "execution_count": null,
   "metadata": {
    "id": "ufoBqNUzr4XM"
   },
   "outputs": [],
   "source": [
    "# Your ideas/code"
   ]
  }
 ],
 "metadata": {
  "colab": {
   "provenance": []
  },
  "kernelspec": {
   "display_name": "Python 3 (ipykernel)",
   "language": "python",
   "name": "python3"
  },
  "language_info": {
   "codemirror_mode": {
    "name": "ipython",
    "version": 3
   },
   "file_extension": ".py",
   "mimetype": "text/x-python",
   "name": "python",
   "nbconvert_exporter": "python",
   "pygments_lexer": "ipython3",
   "version": "3.11.4"
  },
  "toc-autonumbering": false
 },
 "nbformat": 4,
 "nbformat_minor": 1
}
