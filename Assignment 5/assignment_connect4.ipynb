{
 "cells": [
  {
   "cell_type": "markdown",
   "metadata": {
    "id": "Tbevg_ldBRxR"
   },
   "source": [
    "# Adversarial Search: Playing Connect 4\n",
    "\n",
    "Student Name: Michael Doherty\n",
    "\n",
    "I have used the following AI tools: [list tools]\n",
    "\n",
    "I understand that my submission needs to be my own work: MD\n",
    "\n",
    "## Instructions\n",
    "\n",
    "Total Points: Undegraduates 100, graduate students 110\n",
    "\n",
    "Complete this notebook and submit it. The notebook needs to be a complete project report with your implementation, documentation including a short discussion of how your implementation works and your design choices, and experimental results (e.g., tables and charts with simulation results) with a short discussion of what they mean. Use the provided notebook cells and insert additional code and markdown cells as needed.\n",
    "\n",
    "## Introduction\n",
    "\n",
    "You will implement different versions of agents that play Connect 4:\n",
    "\n",
    "> \"Connect 4 is a two-player connection board game, in which the players choose a color and then take turns dropping colored discs into a seven-column, six-row vertically suspended grid. The pieces fall straight down, occupying the lowest available space within the column. The objective of the game is to be the first to form a horizontal, vertical, or diagonal line of four of one's own discs.\" (see [Connect Four on Wikipedia](https://en.wikipedia.org/wiki/Connect_Four))\n",
    "\n",
    "Note that [Connect-4 has been solved](https://en.wikipedia.org/wiki/Connect_Four#Mathematical_solution)\n",
    "in 1988. A connect-4 solver with a discussion of how to solve different parts of the problem can be found here: https://connect4.gamesolver.org/en/"
   ]
  },
  {
   "cell_type": "markdown",
   "metadata": {
    "id": "9mc78P0NBRxU"
   },
   "source": [
    "## Task 1: Defining the Search Problem [10 point]\n",
    "\n",
    "Define the components of the search problem:\n",
    "\n",
    "* Initial state\n",
    "* Actions\n",
    "* Transition model (result function)\n",
    "* Goal state (terminal state and utility)"
   ]
  },
  {
   "cell_type": "markdown",
   "metadata": {
    "id": "sFFhhDQwBRxV"
   },
   "source": [
    "For this search problem (finding winning solutions for a Connect 4 game), I would define the components as:\n",
    "- **Initial State:** An empty Connect 4 board\n",
    "- **Actions:** Drop your colored token in a column that is not full\n",
    "- **Transition Model:** When a colored token is dropped in a column, it will be placed on top of any other colored tokens in that column. If there are no colored tokens in that column, then it will be placed on the bottom row. If the column is already full, then the move is invalid\n",
    "- **Goal State:** Get 4 of your colored tokens in a row (can be vertical, horizontal, or diagonal)"
   ]
  },
  {
   "cell_type": "markdown",
   "metadata": {
    "id": "-fgnAS4sBRxW"
   },
   "source": [
    "How big is the state space? Give an estimate and explain it."
   ]
  },
  {
   "cell_type": "code",
   "execution_count": 1,
   "metadata": {
    "id": "HYD1CNwKBRxW"
   },
   "outputs": [],
   "source": [
    "# Your code/ answer goes here."
   ]
  },
  {
   "cell_type": "markdown",
   "metadata": {
    "id": "wdUaYO7SBRxX"
   },
   "source": [
    "How big is the game tree that minimax search will go through? Give an estimate and explain it."
   ]
  },
  {
   "cell_type": "code",
   "execution_count": 2,
   "metadata": {
    "id": "iojeflV7BRxX"
   },
   "outputs": [],
   "source": [
    "# Your code/ answer goes here."
   ]
  },
  {
   "cell_type": "markdown",
   "metadata": {
    "id": "RYD5uA6PBRxY"
   },
   "source": [
    "## Task 2: Game Environment and Random Agent [25 point]\n",
    "\n",
    "Use a numpy character array as the board."
   ]
  },
  {
   "cell_type": "code",
   "execution_count": 3,
   "metadata": {
    "id": "jemowPKlBRxY",
    "outputId": "cee5edc3-0613-4ad5-a44b-3120e7764913"
   },
   "outputs": [
    {
     "name": "stdout",
     "output_type": "stream",
     "text": [
      "[[0 0 0 0 0 0 0]\n",
      " [0 0 0 0 0 0 0]\n",
      " [0 0 0 0 0 0 0]\n",
      " [0 0 0 0 0 0 0]\n",
      " [0 0 0 0 0 0 0]\n",
      " [0 0 0 0 0 0 0]]\n"
     ]
    }
   ],
   "source": [
    "import numpy as np\n",
    "\n",
    "def empty_board(shape=(6, 7)):\n",
    "    return np.full(shape=shape, fill_value=0)\n",
    "\n",
    "print(empty_board())"
   ]
  },
  {
   "cell_type": "markdown",
   "metadata": {
    "id": "3Av5zPPSBRxZ"
   },
   "source": [
    "The standard board is $6 \\times 7$ but you can use smaller boards to test your code. Instead of colors (red and yellow), I use 1 and -1 to represent the players. Make sure that your agent functions all have the form: `agent_type(board, player = 1)`, where board is the current board position (in the format above) and player is the player whose next move it is and who the agent should play (as 1 and -1)."
   ]
  },
  {
   "cell_type": "code",
   "execution_count": 4,
   "metadata": {
    "id": "CpmjQWt6BRxZ",
    "outputId": "8b1ea3d9-b58d-4775-8fa9-f647de163ed0",
    "scrolled": false,
    "tags": []
   },
   "outputs": [
    {
     "data": {
      "image/png": "[encoded data removed]",
      "text/plain": [
       "<Figure size 640x480 with 1 Axes>"
      ]
     },
     "metadata": {},
     "output_type": "display_data"
    }
   ],
   "source": [
    "# Visualization code by Randolph Rankin\n",
    "\n",
    "%matplotlib inline\n",
    "import matplotlib.pyplot as plt\n",
    "from IPython.display import display, clear_output\n",
    "\n",
    "def visualize(board):\n",
    "    plt.ioff() # turns off auto display of plots\n",
    "    \n",
    "    plt.clf()\n",
    "    \n",
    "    plt.axes()\n",
    "    rectangle=plt.Rectangle((-0.5,len(board)*-1+0.5),len(board[0]),len(board),fc='blue')\n",
    "    circles=[]\n",
    "    for i,row in enumerate(board):\n",
    "        for j,val in enumerate(row):\n",
    "            color='white' if val==0 else 'red' if val==1 else 'yellow'\n",
    "            circles.append(plt.Circle((j,i*-1),0.4,fc=color))\n",
    "\n",
    "    plt.gca().add_patch(rectangle)\n",
    "    for circle in circles:\n",
    "        plt.gca().add_patch(circle)\n",
    "\n",
    "    plt.axis('scaled')\n",
    "    \n",
    "    clear_output(wait=True) # clear the previous plot\n",
    "    display(plt.gcf()) # display the current plot\n",
    "\n",
    "board = [[0, 0, 0, 0, 0, 0, 0],\n",
    "         [0, 0, 0, 0, 0, 0, 0],\n",
    "         [0, 0, 0, 0, 0, 0, 0],\n",
    "         [0, 0, 0, 1, 0, 0, 0],\n",
    "         [0, 0, 0, 1, 0, 0, 0],\n",
    "         [0,-1,-1, 1,-1, 0, 0]]\n",
    "visualize(board)"
   ]
  },
  {
   "cell_type": "markdown",
   "metadata": {
    "id": "5cpV65HtBRxZ",
    "tags": []
   },
   "source": [
    "Implement helper functions for:\n",
    "\n",
    "* A check for available actions in each state `actions(s)`.\n",
    "* The transition model `result(s, a)`.\n",
    "* Check for terminal states `terminal(s)`.\n",
    "* The utility function `utility(s)`.\n",
    "\n",
    "Make sure that all these functions work with boards of different sizes (number of columns and rows)."
   ]
  },
  {
   "cell_type": "code",
   "execution_count": 5,
   "metadata": {
    "id": "R9B8xY5ZBRxZ"
   },
   "outputs": [],
   "source": [
    "from copy import deepcopy\n",
    "\n",
    "def actions(board):\n",
    "    available_moves = []\n",
    "    row_size = len(board)\n",
    "    \n",
    "    for row in range(len(board)):\n",
    "        for col in range(len(board[0])):\n",
    "            if row != row_size - 1 and board[row][col] == 0 and board[row+1][col] != 0:\n",
    "                available_moves.append((row, col))\n",
    "            elif row == row_size - 1 and board[row][col] == 0:\n",
    "                available_moves.append((row, col))\n",
    "                \n",
    "    return available_moves\n",
    "\n",
    "# player 1 always goes first\n",
    "def result(board, player, action):\n",
    "    #board = np.copy(board)\n",
    "    board = deepcopy(board)\n",
    "    \n",
    "    board[action] = player\n",
    "        \n",
    "    return board\n",
    "\n",
    "def terminal(board):\n",
    "    winner = utility(board, 1) #FIXME does it matter what I pass here??\n",
    "    return False if winner == None else True\n",
    "    \n",
    "def utility(board, player):\n",
    "    #board = np.copy(board) # FIXME is this needed??\n",
    "    board = deepcopy(board)\n",
    "    \n",
    "    row_size = len(board)\n",
    "    col_size = len(board[0])\n",
    "    \n",
    "    for row in range(len(board)):\n",
    "        for col in range(len(board[0])):\n",
    "            # check horizontally\n",
    "            if col < col_size - 3 and board[row][col] == board[row][col+1] == board[row][col+2] == board[row][col+3] != 0:\n",
    "                return 1 if board[row][col] == player else -1\n",
    "            \n",
    "            # check vertically\n",
    "            elif row < row_size - 3 and board[row][col] == board[row+1][col] == board[row+2][col] == board[row+3][col] != 0:\n",
    "                return 1 if board[row][col] == player else -1\n",
    "            \n",
    "            # check diagonally (from top left to bottom right)\n",
    "            elif row < row_size - 3 and col < col_size - 3 and board[row][col] == board[row+1][col+1] == board[row+2][col+2] == board[row+3][col+3] != 0:\n",
    "                return 1 if board[row][col] == player else -1\n",
    "            \n",
    "            # check diagonally (from bottom left to top right)\n",
    "            elif row > 2 and col < col_size - 3 and board[row][col] == board[row-1][col+1] == board[row-2][col+2] == board[row-3][col+3] != 0:\n",
    "                return 1 if board[row][col] == player else -1\n",
    "\n",
    "    if np.all(board != 0): # if there is a draw\n",
    "        return 0\n",
    "    \n",
    "    return None"
   ]
  },
  {
   "cell_type": "code",
   "execution_count": 6,
   "metadata": {},
   "outputs": [
    {
     "data": {
      "image/png": "[encoded data removed]",
      "text/plain": [
       "<Figure size 640x480 with 1 Axes>"
      ]
     },
     "metadata": {},
     "output_type": "display_data"
    },
    {
     "name": "stdout",
     "output_type": "stream",
     "text": [
      "[(0, 3), (3, 0), (4, 1), (4, 2), (5, 4), (5, 5), (5, 6)]\n"
     ]
    }
   ],
   "source": [
    "temp = [[0, 0, 0, 0, 0, 0, 0],\n",
    "         [0, 0, 0, -1, 0, 0, 0],\n",
    "         [0, 0, 0, 1, 0, 0, 0],\n",
    "         [0, 0, 0, 1, 0, 0, 0],\n",
    "         [-1, 0, 0, 1, 0, 0, 0],\n",
    "         [1,-1,-1,-1,0, 0, 0]]\n",
    "\n",
    "print(len(temp))\n",
    "print(len(temp[0]))\n",
    "\n",
    "visualize(temp)\n",
    "print(actions(temp))"
   ]
  },
  {
   "cell_type": "markdown",
   "metadata": {
    "id": "Wk0uORtpBRxa"
   },
   "source": [
    "Implement an agent that plays randomly. Make sure the agent function receives as the percept the board and returns a valid action. Use an agent function definition with the following signature (arguments):\n",
    "\n",
    "`def random_player(board, player = 1): ...`\n",
    "\n",
    "The argument `player` is used for agents that do not store what color they are playing. The value passed on by the environment should be 1 ot -1 for player red and yellow, respectively.  See [Experiments section for tic-tac-toe](https://nbviewer.org/github/mhahsler/CS7320-AI/blob/master/Games/tictactoe_and_or_tree_search.ipynb#Experiments) for an example."
   ]
  },
  {
   "cell_type": "code",
   "execution_count": 7,
   "metadata": {
    "id": "qWLJzhE7BRxa"
   },
   "outputs": [],
   "source": [
    "# Your code/ answer goes here.\n",
    "import random\n",
    "\n",
    "def random_player(board, player=1):\n",
    "    return result(board, player, random.choice(actions(board)))"
   ]
  },
  {
   "cell_type": "markdown",
   "metadata": {
    "id": "PqkaQaZSBRxa"
   },
   "source": [
    "Let two random agents play against each other 1000 times. Look at the [Experiments section for tic-tac-toe](https://nbviewer.org/github/mhahsler/CS7320-AI/blob/master/Games/tictactoe_and_or_tree_search.ipynb#Experiments) to see how the environment uses the agent functions to play against each other.\n",
    "\n",
    "How often does each player win? Is the result expected?"
   ]
  },
  {
   "cell_type": "code",
   "execution_count": 8,
   "metadata": {
    "id": "2Qyqiy7FBRxa",
    "scrolled": false,
    "tags": []
   },
   "outputs": [
    {
     "data": {
      "image/png": "[encoded data removed]",
      "text/plain": [
       "<Figure size 640x480 with 1 Axes>"
      ]
     },
     "metadata": {},
     "output_type": "display_data"
    }
   ],
   "source": [
    "# Your code/ answer goes here.\n",
    "board = empty_board()\n",
    "\n",
    "player = 1\n",
    "\n",
    "while terminal(board) == False:\n",
    "    board = random_player(board, player)\n",
    "    visualize(board)\n",
    "    player *= -1"
   ]
  },
  {
   "cell_type": "markdown",
   "metadata": {
    "id": "udNqdRKgBRxa"
   },
   "source": [
    "## Task 3: Minimax Search with Alpha-Beta Pruning\n",
    "\n",
    "### Implement the Search [20 points]\n",
    "\n",
    "Implement minimax search starting from a given board for specifying the player.\n",
    "You can use code from the [tic-tac-toe example](https://nbviewer.org/github/mhahsler/CS7320-AI/blob/master/Games/tictactoe_alpha_beta_tree_search.ipynb).\n",
    "\n",
    "__Important Notes:__\n",
    "* Make sure that all your agent functions have a signature consistent with the random agent above and that it [uses a class to store state information.](https://nbviewer.org/github/mhahsler/CS7320-AI/blob/master/HOWTOs/store_agent_state_information.ipynb)\n",
    "This is essential to be able play against agents from other students later.\n",
    "* The search space for a $6 \\times 7$ board is large. You can experiment with smaller boards (the smallest is $4 \\times 4$) and/or changing the winning rule to connect 3 instead of 4."
   ]
  },
  {
   "cell_type": "code",
   "execution_count": 9,
   "metadata": {
    "id": "eE84gYEDBRxa"
   },
   "outputs": [],
   "source": [
    "# Your code/ answer goes here.\n",
    "import math\n",
    "\n",
    "class Minimax_Search:\n",
    "    def __init__(self, player, debug=0):\n",
    "        self.count = 0\n",
    "        self.player = player\n",
    "        self.debug = debug\n",
    "        \n",
    "    def make_move(self, board):\n",
    "        value, move = self.max_value_ab(board, -math.inf, +math.inf)\n",
    "        \n",
    "        if self.debug >= 1: print(f\"Number of nodes searched: {self.count}\")\n",
    "            \n",
    "        return value, move\n",
    "    \n",
    "    def max_value_ab(self, board, alpha, beta):\n",
    "        self.count += 1\n",
    "        \n",
    "        value = utility(board, self.player)\n",
    "        \n",
    "        if self.debug >= 2: print(f\"max: {board} [alpha, beta]=[{alpha},{beta}] value={value}\")\n",
    "            \n",
    "        if value is not None:\n",
    "            if self.debug >= 2: print(\"Found terminal state. Backtracking.\")\n",
    "            return value, None\n",
    "        \n",
    "        value, move = -math.inf, None\n",
    "        \n",
    "        for action in actions(board):\n",
    "            value_2, action_2 = self.min_value_ab(result(board, self.player, action), alpha, beta)\n",
    "            if self.debug >= 2: print(f\"max: {board} (backtracked) [alpha,beta]=[{alpha},{beta}] value={value_2}\")\n",
    "                \n",
    "            if value_2 > value:\n",
    "                value, move = value_2, action\n",
    "                alpha = max(alpha, value)\n",
    "                \n",
    "            if value >= beta:\n",
    "                if self.debug >= 2: print(f\"value >= beta ({value}>={beta}): pruning remaining subtree (actions). Backtracking.\")\n",
    "                return value, move\n",
    "            \n",
    "        return value, move\n",
    "    \n",
    "    def min_value_ab(self, board, alpha, beta):\n",
    "        self.count += 1\n",
    "        \n",
    "        value = utility(board, self.player)\n",
    "        \n",
    "        if self.debug >= 2: print(f\"min: {board} [alpha, beta]=[{alpha},{beta}] value={value}\")\n",
    "            \n",
    "        if value is not None:\n",
    "            if self.debug >= 2: print(\"Found terminal state. Backtracking.\")\n",
    "            return value, None\n",
    "        \n",
    "        value, move = +math.inf, None\n",
    "        \n",
    "        for action in actions(board):\n",
    "            value_2, action_2 = self.max_value_ab(result(board, self.player, action), alpha, beta)\n",
    "            if self.debug >= 2: print(f\"min: {board} (backtracked) [alpha,beta]=[{alpha},{beta}] value={value_2}\")\n",
    "                \n",
    "            if value_2 < value:\n",
    "                value, move = value_2, action\n",
    "                beta = min(beta, value)\n",
    "                \n",
    "            if value <= alpha:\n",
    "                if self.debug >= 2: print(f\"value <= alpha ({value}<={alpha}): pruning remaining subtree (actions). Backtracking.\")\n",
    "                return value, move\n",
    "            \n",
    "        return value, move"
   ]
  },
  {
   "cell_type": "markdown",
   "metadata": {
    "id": "T8BzabdZBRxb"
   },
   "source": [
    "Experiment with some manually created boards (at least 5) to check if the agent spots winning opportunities."
   ]
  },
  {
   "cell_type": "code",
   "execution_count": 12,
   "metadata": {},
   "outputs": [
    {
     "data": {
      "image/png": "[encoded data removed]",
      "text/plain": [
       "<Figure size 640x480 with 1 Axes>"
      ]
     },
     "metadata": {},
     "output_type": "display_data"
    }
   ],
   "source": [
    "board = np.array(\n",
    "        [[0, 0, 0, 0, 0, 0, 0],\n",
    "         [0, 0, 0, 0, 0, 0, 0],\n",
    "         [0, 0, 0, 0, 0, 0, 0],\n",
    "         [1, 0, 0, 0, 0, 0, 0],\n",
    "         [-1,-1,-1,0, 0, 0, 0],\n",
    "         [1, 1, 1, 0, 0, 0, 0]])\n",
    "\n",
    "yellow_agent = Minimax_Search(player=-1,debug=1)\n",
    "value, move = yellow_agent.make_move(board)\n",
    "board = result(board, -1, move)\n",
    "visualize(board)"
   ]
  },
  {
   "cell_type": "code",
   "execution_count": 16,
   "metadata": {},
   "outputs": [
    {
     "name": "stdout",
     "output_type": "stream",
     "text": [
      "<class 'numpy.ndarray'>\n",
      "<class 'list'>\n",
      "<class 'numpy.ndarray'>\n"
     ]
    }
   ],
   "source": [
    "board = [[0, 0, 0, 0, 0, 0, 0],\n",
    "         [0, 0, 0, 0, 0, 0, 0],\n",
    "         [0, 0, 0, 0, 0, 0, 0],\n",
    "         [0, 0, 0, 0, 0, 0, 0],\n",
    "         [0, 0, 0, 0, 0, 0, 0],\n",
    "         [0, 0, 0, 0, 0, 0, 0]]\n",
    "\n",
    "board_2 = result(board, 1, (0,0))\n",
    "\n",
    "print(type(empty_board()))\n",
    "print(type(board))\n",
    "print(type(board_2))"
   ]
  },
  {
   "cell_type": "code",
   "execution_count": 17,
   "metadata": {},
   "outputs": [
    {
     "data": {
      "image/png": "[encoded data removed]",
      "text/plain": [
       "<Figure size 640x480 with 1 Axes>"
      ]
     },
     "metadata": {},
     "output_type": "display_data"
    }
   ],
   "source": [
    "from pprint import pprint\n",
    "# from copy import deepcopy\n",
    "\n",
    "board = [[0, 0, 0, 0, 0, 0, 0],\n",
    "         [0, 0, 0, 0, 0, 0, 0],\n",
    "         [0, 0, 0, 0, 0, 0, 0],\n",
    "         [0, 0, 0, 1, 0, 0, 0],\n",
    "         [0, 0, 0, 1, 0, 0, 0],\n",
    "         [0,-1,-1, 1,-1, 1, 0]]\n",
    "\n",
    "yellow_agent = Minimax_Search(player=-1,debug=0)\n",
    "value, move = yellow_agent.make_move(board)\n",
    "board = result(board, -1, move)\n",
    "visualize(board)"
   ]
  },
  {
   "cell_type": "code",
   "execution_count": 44,
   "metadata": {
    "id": "Ke9Eoz_vBRxb"
   },
   "outputs": [
    {
     "data": {
      "image/png": "[encoded data removed]",
      "text/plain": [
       "<Figure size 640x480 with 1 Axes>"
      ]
     },
     "metadata": {},
     "output_type": "display_data"
    }
   ],
   "source": [
    "# Your code/ answer goes here.\n",
    "red_agent = Minimax_Search(player=1,debug=0)\n",
    "\n",
    "yellow_agent = Minimax_Search(player=-1,debug=0)\n",
    "\n",
    "board = empty_board()\n",
    "\n",
    "turn = 1\n",
    "\n",
    "while terminal(board) == False:\n",
    "    if turn == 1:\n",
    "        value, move = red_agent.make_move(board)\n",
    "    else:\n",
    "        value, move = yellow_agent.make_move(board)\n",
    "        \n",
    "    board = result(board, turn, move)\n",
    "    visualize(board)\n",
    "        \n",
    "    turn *= -1"
   ]
  },
  {
   "cell_type": "markdown",
   "metadata": {
    "id": "zC-qN78BBRxb"
   },
   "source": [
    "How long does it take to make a move? Start with a smaller board with 4 columns and make the board larger by adding columns."
   ]
  },
  {
   "cell_type": "code",
   "execution_count": null,
   "metadata": {
    "id": "J5kCSpi7BRxc"
   },
   "outputs": [],
   "source": [
    "# Your code/ answer goes here."
   ]
  },
  {
   "cell_type": "markdown",
   "metadata": {
    "id": "kOfIcrnYBRxc"
   },
   "source": [
    "### Move ordering [5 points]\n",
    "\n",
    "Starting the search with better moves will increase the efficiency of alpha-beta pruning. Describe and implement a simple move ordering strategy. Make a table that shows how the ordering strategies influence the time it takes to make a move?"
   ]
  },
  {
   "cell_type": "code",
   "execution_count": null,
   "metadata": {
    "id": "ZcEPg7afBRxc"
   },
   "outputs": [],
   "source": [
    "# Your code/ answer goes here."
   ]
  },
  {
   "cell_type": "markdown",
   "metadata": {
    "id": "abG6Hi2OBRxc"
   },
   "source": [
    "### The first few moves [5 points]\n",
    "\n",
    "Start with an empty board. This is the worst case scenario for minimax search since it needs solve all possible games that can be played (minus some pruning) before making the decision. What can you do?"
   ]
  },
  {
   "cell_type": "code",
   "execution_count": null,
   "metadata": {
    "id": "LuSqqwe_BRxd"
   },
   "outputs": [],
   "source": [
    "# Your code/ answer goes here."
   ]
  },
  {
   "cell_type": "markdown",
   "metadata": {
    "id": "0SpX0V0_BRxd"
   },
   "source": [
    "### Playtime [5 points]\n",
    "\n",
    "Let the Minimax Search agent play a random agent on a small board. Analyze wins, losses and draws."
   ]
  },
  {
   "cell_type": "code",
   "execution_count": null,
   "metadata": {
    "id": "ICyKtamKBRxd"
   },
   "outputs": [],
   "source": [
    "# Your code/ answer goes here."
   ]
  },
  {
   "cell_type": "markdown",
   "metadata": {
    "id": "tdaTAfbTBRxd"
   },
   "source": [
    "## Task 4: Heuristic Alpha-Beta Tree Search\n",
    "\n",
    "### Heuristic evaluation function [15 points]\n",
    "\n",
    "Define and implement a heuristic evaluation function."
   ]
  },
  {
   "cell_type": "code",
   "execution_count": null,
   "metadata": {
    "id": "J3mBFCvsBRxd"
   },
   "outputs": [],
   "source": [
    "# Your code/ answer goes here."
   ]
  },
  {
   "cell_type": "markdown",
   "metadata": {
    "id": "jbymx1gaBRxd"
   },
   "source": [
    "### Cutting off search [10 points]\n",
    "\n",
    "Modify your Minimax Search with Alpha-Beta Pruning to cut off search at a specified depth and use the heuristic evaluation function. Experiment with different cutoff values."
   ]
  },
  {
   "cell_type": "code",
   "execution_count": null,
   "metadata": {
    "id": "D9m3EsbVBRxd"
   },
   "outputs": [],
   "source": [
    "# Your code/ answer goes here."
   ]
  },
  {
   "cell_type": "markdown",
   "metadata": {
    "id": "KK7LSU29BRxd"
   },
   "source": [
    "Experiment with the same manually created boards as above to check if the agent spots wining opportunities."
   ]
  },
  {
   "cell_type": "code",
   "execution_count": null,
   "metadata": {
    "id": "5T4bo7zaBRxd"
   },
   "outputs": [],
   "source": [
    "# Your code/ answer goes here."
   ]
  },
  {
   "cell_type": "markdown",
   "metadata": {
    "id": "wzI7KRCEBRxe"
   },
   "source": [
    "How long does it take to make a move? Start with a smaller board with 4 columns and make the board larger by adding columns."
   ]
  },
  {
   "cell_type": "code",
   "execution_count": null,
   "metadata": {
    "id": "tu0lP157BRxe"
   },
   "outputs": [],
   "source": [
    "# Your code/ answer goes here."
   ]
  },
  {
   "cell_type": "markdown",
   "metadata": {
    "id": "DDMSoduiBRxe"
   },
   "source": [
    "### Playtime [5 points]\n",
    "\n",
    "Let two heuristic search agents (different cutoff depth, different heuristic evaluation function) compete against each other on a reasonably sized board. Since there is no randomness, you only need to let them play once."
   ]
  },
  {
   "cell_type": "code",
   "execution_count": null,
   "metadata": {
    "id": "Ka1brOCyBRxe"
   },
   "outputs": [],
   "source": [
    "# Your code/ answer goes here."
   ]
  },
  {
   "cell_type": "markdown",
   "metadata": {
    "id": "y6H2v40qBRxi"
   },
   "source": [
    "## Challenge task [+ 10 bonus point will be awarded separately]\n",
    "\n",
    "Find another student and let your best agent play against the other student's best player. We will set up a class tournament on Canvas. This tournament will continue after the submission deadline."
   ]
  },
  {
   "cell_type": "markdown",
   "metadata": {
    "id": "gGCeH6sQBRxi"
   },
   "source": [
    "## Graduate student advanced task: Pure Monte Carlo Search and Best First Move [10 point]\n",
    "\n",
    "__Undergraduate students:__ This is a bonus task you can attempt if you like [+10 bonus point].\n",
    "\n",
    "### Pure Monte Carlo Search\n",
    "\n",
    "Implement Pure Monte Carlo Search and investigate how this search performs on the test boards that you have used above."
   ]
  },
  {
   "cell_type": "code",
   "execution_count": null,
   "metadata": {
    "id": "rDuFGhnSBRxi"
   },
   "outputs": [],
   "source": [
    "# Your code/ answer goes here."
   ]
  },
  {
   "cell_type": "markdown",
   "metadata": {
    "id": "DAq6uVK9BRxi"
   },
   "source": [
    "### Best First Move\n",
    "\n",
    "Use Pure Monte Carlo Search to determine what the best first move is? Describe under what assumptions this is the \"best\" first move.  "
   ]
  },
  {
   "cell_type": "code",
   "execution_count": null,
   "metadata": {
    "id": "DA6SG-RUBRxi"
   },
   "outputs": [],
   "source": [
    "# Your code/ answer goes here."
   ]
  }
 ],
 "metadata": {
  "colab": {
   "provenance": []
  },
  "kernelspec": {
   "display_name": "Python 3 (ipykernel)",
   "language": "python",
   "name": "python3"
  },
  "language_info": {
   "codemirror_mode": {
    "name": "ipython",
    "version": 3
   },
   "file_extension": ".py",
   "mimetype": "text/x-python",
   "name": "python",
   "nbconvert_exporter": "python",
   "pygments_lexer": "ipython3",
   "version": "3.8.17"
  }
 },
 "nbformat": 4,
 "nbformat_minor": 1
}
